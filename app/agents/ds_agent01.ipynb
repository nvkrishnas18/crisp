{
 "cells": [
  {
   "cell_type": "code",
   "execution_count": 7,
   "id": "6c263a74-89f8-42e6-bb32-38b72f25565e",
   "metadata": {},
   "outputs": [],
   "source": [
    "from typing_extensions import TypedDict\n",
    "from langgraph.graph import StateGraph, START, END\n",
    "from langgraph.types import Command, interrupt\n",
    "from langgraph.checkpoint.memory import MemorySaver\n",
    "from langgraph.checkpoint.sqlite import SqliteSaver\n",
    "from IPython.display import Image, display\n",
    "import pandas as pd\n",
    "from typing import Any, Annotated\n",
    "from langgraph.graph.message import add_messages\n",
    "from langchain_groq import ChatGroq\n",
    "from langchain_core.messages import HumanMessage\n",
    "import numpy as np"
   ]
  },
  {
   "cell_type": "code",
   "execution_count": 3,
   "id": "57f29b61-ad1b-4fb9-b38f-e5e0e238fcfb",
   "metadata": {},
   "outputs": [
    {
     "name": "stdout",
     "output_type": "stream",
     "text": [
      "type trace.y <class 'numpy.ndarray'>\n",
      "echarts_json:: <class 'dict'>\n",
      "{\"title\": {\"text\": \"Example Plotly Chart\"}, \"tooltip\": {\"trigger\": \"axis\"}, \"legend\": {\"data\": [\"Series\"]}, \"xAxis\": {\"type\": \"category\", \"data\": [1, 2, 3, 4]}, \"yAxis\": {\"type\": \"value\"}, \"series\": [{\"name\": \"Series\", \"type\": \"line\", \"data\": [10, 20, 15, 25]}]}\n"
     ]
    }
   ],
   "source": [
    "import plotly.express as px\n",
    "import json\n",
    "\n",
    "def plotly_to_echarts(fig):\n",
    "    echarts_json = {\n",
    "        \"title\": {\"text\": fig.layout.title.text if fig.layout.title else \"\"},\n",
    "        \"tooltip\": {\"trigger\": \"axis\"},\n",
    "        \"legend\": {\"data\": []},\n",
    "        \"xAxis\": {\"type\": \"category\", \"data\": []},\n",
    "        \"yAxis\": {\"type\": \"value\"},\n",
    "        \"series\": []\n",
    "    }\n",
    "    \n",
    "    for trace in fig.data:\n",
    "        series_data = {\n",
    "            \"name\": trace.name if trace.name else \"Series\",\n",
    "            \"type\": \"line\" if trace.mode == \"lines\" else \"bar\",\n",
    "            \"data\": []\n",
    "        }\n",
    "        \n",
    "        if \"x\" in trace:\n",
    "            echarts_json[\"xAxis\"][\"data\"] = trace.x.tolist()\n",
    "        print(\"type trace.y\",type(trace.y))\n",
    "        if \"y\" in trace:\n",
    "            series_data[\"data\"] = trace.y.tolist()\n",
    "        \n",
    "        echarts_json[\"series\"].append(series_data)\n",
    "        echarts_json[\"legend\"][\"data\"].append(series_data[\"name\"])\n",
    "    print(\"echarts_json::\",type(echarts_json))\n",
    "    return echarts_json\n",
    "\n",
    "# Example usage:\n",
    "fig = px.line(x=[1, 2, 3, 4], y=[10, 20, 15, 25], title=\"Example Plotly Chart\")\n",
    "echarts_json = plotly_to_echarts(fig)\n",
    "print(json.dumps(echarts_json))"
   ]
  },
  {
   "cell_type": "code",
   "execution_count": 27,
   "id": "3dedefe2-19ec-45cb-96a8-f22bd5511059",
   "metadata": {},
   "outputs": [
    {
     "name": "stdout",
     "output_type": "stream",
     "text": [
      "X Data: [1 2 3 4]\n",
      "Y Data: [10 20 15 25]\n"
     ]
    }
   ],
   "source": [
    "for trace in fig.data:\n",
    "    x_data = trace.x\n",
    "    y_data = trace.y\n",
    "    print(f\"X Data: {x_data}\")\n",
    "    print(f\"Y Data: {y_data}\")"
   ]
  },
  {
   "cell_type": "code",
   "execution_count": 29,
   "id": "b30644d0-0651-40ab-839e-84e17ff4de6b",
   "metadata": {},
   "outputs": [
    {
     "data": {
      "text/plain": [
       "(Scatter({\n",
       "     'hovertemplate': 'x=%{x}<br>y=%{y}<extra></extra>',\n",
       "     'legendgroup': '',\n",
       "     'line': {'color': '#636efa', 'dash': 'solid'},\n",
       "     'marker': {'symbol': 'circle'},\n",
       "     'mode': 'lines',\n",
       "     'name': '',\n",
       "     'orientation': 'v',\n",
       "     'showlegend': False,\n",
       "     'x': array([1, 2, 3, 4]),\n",
       "     'xaxis': 'x',\n",
       "     'y': array([10, 20, 15, 25]),\n",
       "     'yaxis': 'y'\n",
       " }),)"
      ]
     },
     "execution_count": 29,
     "metadata": {},
     "output_type": "execute_result"
    }
   ],
   "source": [
    "fig.data"
   ]
  },
  {
   "cell_type": "code",
   "execution_count": 31,
   "id": "bacd3470-edc0-47e6-a702-02f718cf4b31",
   "metadata": {},
   "outputs": [
    {
     "data": {
      "text/plain": [
       "(Scatter({\n",
       "     'hovertemplate': 'country=Australia<br>year=%{x}<br>lifeExp=%{y}<extra></extra>',\n",
       "     'legendgroup': 'Australia',\n",
       "     'line': {'color': '#636efa', 'dash': 'solid'},\n",
       "     'marker': {'symbol': 'circle'},\n",
       "     'mode': 'lines+markers',\n",
       "     'name': 'Australia',\n",
       "     'orientation': 'v',\n",
       "     'showlegend': True,\n",
       "     'x': array([1952, 1957, 1962, 1967, 1972, 1977, 1982, 1987, 1992, 1997, 2002, 2007]),\n",
       "     'xaxis': 'x',\n",
       "     'y': array([69.12 , 70.33 , 70.93 , 71.1  , 71.93 , 73.49 , 74.74 , 76.32 , 77.56 ,\n",
       "                 78.83 , 80.37 , 81.235]),\n",
       "     'yaxis': 'y'\n",
       " }),\n",
       " Scatter({\n",
       "     'hovertemplate': 'country=New Zealand<br>year=%{x}<br>lifeExp=%{y}<extra></extra>',\n",
       "     'legendgroup': 'New Zealand',\n",
       "     'line': {'color': '#EF553B', 'dash': 'solid'},\n",
       "     'marker': {'symbol': 'circle'},\n",
       "     'mode': 'lines+markers',\n",
       "     'name': 'New Zealand',\n",
       "     'orientation': 'v',\n",
       "     'showlegend': True,\n",
       "     'x': array([1952, 1957, 1962, 1967, 1972, 1977, 1982, 1987, 1992, 1997, 2002, 2007]),\n",
       "     'xaxis': 'x',\n",
       "     'y': array([69.39 , 70.26 , 71.24 , 71.52 , 71.89 , 72.22 , 73.84 , 74.32 , 76.33 ,\n",
       "                 77.55 , 79.11 , 80.204]),\n",
       "     'yaxis': 'y'\n",
       " }))"
      ]
     },
     "execution_count": 31,
     "metadata": {},
     "output_type": "execute_result"
    }
   ],
   "source": [
    "import plotly.express as px\n",
    "df = px.data.gapminder().query(\"continent == 'Oceania'\")\n",
    "fig = px.line(df, x='year', y='lifeExp', color='country', markers=True)\n",
    "fig.data"
   ]
  },
  {
   "cell_type": "code",
   "execution_count": 16,
   "id": "bfd5e9ad-b11d-4f50-b3e9-9123eab6eb2a",
   "metadata": {},
   "outputs": [
    {
     "data": {
      "text/plain": [
       "{'template': {'data': {'histogram2dcontour': [{'type': 'histogram2dcontour',\n",
       "     'colorbar': {'outlinewidth': 0, 'ticks': ''},\n",
       "     'colorscale': [[0.0, '#0d0887'],\n",
       "      [0.1111111111111111, '#46039f'],\n",
       "      [0.2222222222222222, '#7201a8'],\n",
       "      [0.3333333333333333, '#9c179e'],\n",
       "      [0.4444444444444444, '#bd3786'],\n",
       "      [0.5555555555555556, '#d8576b'],\n",
       "      [0.6666666666666666, '#ed7953'],\n",
       "      [0.7777777777777778, '#fb9f3a'],\n",
       "      [0.8888888888888888, '#fdca26'],\n",
       "      [1.0, '#f0f921']]}],\n",
       "   'choropleth': [{'type': 'choropleth',\n",
       "     'colorbar': {'outlinewidth': 0, 'ticks': ''}}],\n",
       "   'histogram2d': [{'type': 'histogram2d',\n",
       "     'colorbar': {'outlinewidth': 0, 'ticks': ''},\n",
       "     'colorscale': [[0.0, '#0d0887'],\n",
       "      [0.1111111111111111, '#46039f'],\n",
       "      [0.2222222222222222, '#7201a8'],\n",
       "      [0.3333333333333333, '#9c179e'],\n",
       "      [0.4444444444444444, '#bd3786'],\n",
       "      [0.5555555555555556, '#d8576b'],\n",
       "      [0.6666666666666666, '#ed7953'],\n",
       "      [0.7777777777777778, '#fb9f3a'],\n",
       "      [0.8888888888888888, '#fdca26'],\n",
       "      [1.0, '#f0f921']]}],\n",
       "   'heatmap': [{'type': 'heatmap',\n",
       "     'colorbar': {'outlinewidth': 0, 'ticks': ''},\n",
       "     'colorscale': [[0.0, '#0d0887'],\n",
       "      [0.1111111111111111, '#46039f'],\n",
       "      [0.2222222222222222, '#7201a8'],\n",
       "      [0.3333333333333333, '#9c179e'],\n",
       "      [0.4444444444444444, '#bd3786'],\n",
       "      [0.5555555555555556, '#d8576b'],\n",
       "      [0.6666666666666666, '#ed7953'],\n",
       "      [0.7777777777777778, '#fb9f3a'],\n",
       "      [0.8888888888888888, '#fdca26'],\n",
       "      [1.0, '#f0f921']]}],\n",
       "   'contourcarpet': [{'type': 'contourcarpet',\n",
       "     'colorbar': {'outlinewidth': 0, 'ticks': ''}}],\n",
       "   'contour': [{'type': 'contour',\n",
       "     'colorbar': {'outlinewidth': 0, 'ticks': ''},\n",
       "     'colorscale': [[0.0, '#0d0887'],\n",
       "      [0.1111111111111111, '#46039f'],\n",
       "      [0.2222222222222222, '#7201a8'],\n",
       "      [0.3333333333333333, '#9c179e'],\n",
       "      [0.4444444444444444, '#bd3786'],\n",
       "      [0.5555555555555556, '#d8576b'],\n",
       "      [0.6666666666666666, '#ed7953'],\n",
       "      [0.7777777777777778, '#fb9f3a'],\n",
       "      [0.8888888888888888, '#fdca26'],\n",
       "      [1.0, '#f0f921']]}],\n",
       "   'surface': [{'type': 'surface',\n",
       "     'colorbar': {'outlinewidth': 0, 'ticks': ''},\n",
       "     'colorscale': [[0.0, '#0d0887'],\n",
       "      [0.1111111111111111, '#46039f'],\n",
       "      [0.2222222222222222, '#7201a8'],\n",
       "      [0.3333333333333333, '#9c179e'],\n",
       "      [0.4444444444444444, '#bd3786'],\n",
       "      [0.5555555555555556, '#d8576b'],\n",
       "      [0.6666666666666666, '#ed7953'],\n",
       "      [0.7777777777777778, '#fb9f3a'],\n",
       "      [0.8888888888888888, '#fdca26'],\n",
       "      [1.0, '#f0f921']]}],\n",
       "   'mesh3d': [{'type': 'mesh3d',\n",
       "     'colorbar': {'outlinewidth': 0, 'ticks': ''}}],\n",
       "   'scatter': [{'fillpattern': {'fillmode': 'overlay',\n",
       "      'size': 10,\n",
       "      'solidity': 0.2},\n",
       "     'type': 'scatter'}],\n",
       "   'parcoords': [{'type': 'parcoords',\n",
       "     'line': {'colorbar': {'outlinewidth': 0, 'ticks': ''}}}],\n",
       "   'scatterpolargl': [{'type': 'scatterpolargl',\n",
       "     'marker': {'colorbar': {'outlinewidth': 0, 'ticks': ''}}}],\n",
       "   'bar': [{'error_x': {'color': '#2a3f5f'},\n",
       "     'error_y': {'color': '#2a3f5f'},\n",
       "     'marker': {'line': {'color': '#E5ECF6', 'width': 0.5},\n",
       "      'pattern': {'fillmode': 'overlay', 'size': 10, 'solidity': 0.2}},\n",
       "     'type': 'bar'}],\n",
       "   'scattergeo': [{'type': 'scattergeo',\n",
       "     'marker': {'colorbar': {'outlinewidth': 0, 'ticks': ''}}}],\n",
       "   'scatterpolar': [{'type': 'scatterpolar',\n",
       "     'marker': {'colorbar': {'outlinewidth': 0, 'ticks': ''}}}],\n",
       "   'histogram': [{'marker': {'pattern': {'fillmode': 'overlay',\n",
       "       'size': 10,\n",
       "       'solidity': 0.2}},\n",
       "     'type': 'histogram'}],\n",
       "   'scattergl': [{'type': 'scattergl',\n",
       "     'marker': {'colorbar': {'outlinewidth': 0, 'ticks': ''}}}],\n",
       "   'scatter3d': [{'type': 'scatter3d',\n",
       "     'line': {'colorbar': {'outlinewidth': 0, 'ticks': ''}},\n",
       "     'marker': {'colorbar': {'outlinewidth': 0, 'ticks': ''}}}],\n",
       "   'scattermap': [{'type': 'scattermap',\n",
       "     'marker': {'colorbar': {'outlinewidth': 0, 'ticks': ''}}}],\n",
       "   'scattermapbox': [{'type': 'scattermapbox',\n",
       "     'marker': {'colorbar': {'outlinewidth': 0, 'ticks': ''}}}],\n",
       "   'scatterternary': [{'type': 'scatterternary',\n",
       "     'marker': {'colorbar': {'outlinewidth': 0, 'ticks': ''}}}],\n",
       "   'scattercarpet': [{'type': 'scattercarpet',\n",
       "     'marker': {'colorbar': {'outlinewidth': 0, 'ticks': ''}}}],\n",
       "   'carpet': [{'aaxis': {'endlinecolor': '#2a3f5f',\n",
       "      'gridcolor': 'white',\n",
       "      'linecolor': 'white',\n",
       "      'minorgridcolor': 'white',\n",
       "      'startlinecolor': '#2a3f5f'},\n",
       "     'baxis': {'endlinecolor': '#2a3f5f',\n",
       "      'gridcolor': 'white',\n",
       "      'linecolor': 'white',\n",
       "      'minorgridcolor': 'white',\n",
       "      'startlinecolor': '#2a3f5f'},\n",
       "     'type': 'carpet'}],\n",
       "   'table': [{'cells': {'fill': {'color': '#EBF0F8'},\n",
       "      'line': {'color': 'white'}},\n",
       "     'header': {'fill': {'color': '#C8D4E3'}, 'line': {'color': 'white'}},\n",
       "     'type': 'table'}],\n",
       "   'barpolar': [{'marker': {'line': {'color': '#E5ECF6', 'width': 0.5},\n",
       "      'pattern': {'fillmode': 'overlay', 'size': 10, 'solidity': 0.2}},\n",
       "     'type': 'barpolar'}],\n",
       "   'pie': [{'automargin': True, 'type': 'pie'}]},\n",
       "  'layout': {'autotypenumbers': 'strict',\n",
       "   'colorway': ['#636efa',\n",
       "    '#EF553B',\n",
       "    '#00cc96',\n",
       "    '#ab63fa',\n",
       "    '#FFA15A',\n",
       "    '#19d3f3',\n",
       "    '#FF6692',\n",
       "    '#B6E880',\n",
       "    '#FF97FF',\n",
       "    '#FECB52'],\n",
       "   'font': {'color': '#2a3f5f'},\n",
       "   'hovermode': 'closest',\n",
       "   'hoverlabel': {'align': 'left'},\n",
       "   'paper_bgcolor': 'white',\n",
       "   'plot_bgcolor': '#E5ECF6',\n",
       "   'polar': {'bgcolor': '#E5ECF6',\n",
       "    'angularaxis': {'gridcolor': 'white', 'linecolor': 'white', 'ticks': ''},\n",
       "    'radialaxis': {'gridcolor': 'white', 'linecolor': 'white', 'ticks': ''}},\n",
       "   'ternary': {'bgcolor': '#E5ECF6',\n",
       "    'aaxis': {'gridcolor': 'white', 'linecolor': 'white', 'ticks': ''},\n",
       "    'baxis': {'gridcolor': 'white', 'linecolor': 'white', 'ticks': ''},\n",
       "    'caxis': {'gridcolor': 'white', 'linecolor': 'white', 'ticks': ''}},\n",
       "   'coloraxis': {'colorbar': {'outlinewidth': 0, 'ticks': ''}},\n",
       "   'colorscale': {'sequential': [[0.0, '#0d0887'],\n",
       "     [0.1111111111111111, '#46039f'],\n",
       "     [0.2222222222222222, '#7201a8'],\n",
       "     [0.3333333333333333, '#9c179e'],\n",
       "     [0.4444444444444444, '#bd3786'],\n",
       "     [0.5555555555555556, '#d8576b'],\n",
       "     [0.6666666666666666, '#ed7953'],\n",
       "     [0.7777777777777778, '#fb9f3a'],\n",
       "     [0.8888888888888888, '#fdca26'],\n",
       "     [1.0, '#f0f921']],\n",
       "    'sequentialminus': [[0.0, '#0d0887'],\n",
       "     [0.1111111111111111, '#46039f'],\n",
       "     [0.2222222222222222, '#7201a8'],\n",
       "     [0.3333333333333333, '#9c179e'],\n",
       "     [0.4444444444444444, '#bd3786'],\n",
       "     [0.5555555555555556, '#d8576b'],\n",
       "     [0.6666666666666666, '#ed7953'],\n",
       "     [0.7777777777777778, '#fb9f3a'],\n",
       "     [0.8888888888888888, '#fdca26'],\n",
       "     [1.0, '#f0f921']],\n",
       "    'diverging': [[0, '#8e0152'],\n",
       "     [0.1, '#c51b7d'],\n",
       "     [0.2, '#de77ae'],\n",
       "     [0.3, '#f1b6da'],\n",
       "     [0.4, '#fde0ef'],\n",
       "     [0.5, '#f7f7f7'],\n",
       "     [0.6, '#e6f5d0'],\n",
       "     [0.7, '#b8e186'],\n",
       "     [0.8, '#7fbc41'],\n",
       "     [0.9, '#4d9221'],\n",
       "     [1, '#276419']]},\n",
       "   'xaxis': {'gridcolor': 'white',\n",
       "    'linecolor': 'white',\n",
       "    'ticks': '',\n",
       "    'title': {'standoff': 15},\n",
       "    'zerolinecolor': 'white',\n",
       "    'automargin': True,\n",
       "    'zerolinewidth': 2},\n",
       "   'yaxis': {'gridcolor': 'white',\n",
       "    'linecolor': 'white',\n",
       "    'ticks': '',\n",
       "    'title': {'standoff': 15},\n",
       "    'zerolinecolor': 'white',\n",
       "    'automargin': True,\n",
       "    'zerolinewidth': 2},\n",
       "   'scene': {'xaxis': {'backgroundcolor': '#E5ECF6',\n",
       "     'gridcolor': 'white',\n",
       "     'linecolor': 'white',\n",
       "     'showbackground': True,\n",
       "     'ticks': '',\n",
       "     'zerolinecolor': 'white',\n",
       "     'gridwidth': 2},\n",
       "    'yaxis': {'backgroundcolor': '#E5ECF6',\n",
       "     'gridcolor': 'white',\n",
       "     'linecolor': 'white',\n",
       "     'showbackground': True,\n",
       "     'ticks': '',\n",
       "     'zerolinecolor': 'white',\n",
       "     'gridwidth': 2},\n",
       "    'zaxis': {'backgroundcolor': '#E5ECF6',\n",
       "     'gridcolor': 'white',\n",
       "     'linecolor': 'white',\n",
       "     'showbackground': True,\n",
       "     'ticks': '',\n",
       "     'zerolinecolor': 'white',\n",
       "     'gridwidth': 2}},\n",
       "   'shapedefaults': {'line': {'color': '#2a3f5f'}},\n",
       "   'annotationdefaults': {'arrowcolor': '#2a3f5f',\n",
       "    'arrowhead': 0,\n",
       "    'arrowwidth': 1},\n",
       "   'geo': {'bgcolor': 'white',\n",
       "    'landcolor': '#E5ECF6',\n",
       "    'subunitcolor': 'white',\n",
       "    'showland': True,\n",
       "    'showlakes': True,\n",
       "    'lakecolor': 'white'},\n",
       "   'title': {'x': 0.05},\n",
       "   'mapbox': {'style': 'light'}}},\n",
       " 'xaxis': {'anchor': 'y', 'domain': [0.0, 1.0], 'title': {'text': 'x'}},\n",
       " 'yaxis': {'anchor': 'x', 'domain': [0.0, 1.0], 'title': {'text': 'y'}},\n",
       " 'legend': {'tracegroupgap': 0},\n",
       " 'title': {'text': 'Example Plotly Chart'}}"
      ]
     },
     "execution_count": 16,
     "metadata": {},
     "output_type": "execute_result"
    }
   ],
   "source": [
    "fig_data['layout']"
   ]
  },
  {
   "cell_type": "code",
   "execution_count": 5,
   "id": "dece0005",
   "metadata": {},
   "outputs": [],
   "source": [
    "GROQ_API_KEY = \"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\""
   ]
  },
  {
   "cell_type": "code",
   "execution_count": 9,
   "id": "a6ab8d9f",
   "metadata": {},
   "outputs": [],
   "source": [
    "llm = ChatGroq(temperature=0.1, groq_api_key=GROQ_API_KEY, model_name=\"llama-3.3-70b-specdec\")"
   ]
  },
  {
   "cell_type": "code",
   "execution_count": null,
   "id": "23f4915f-b4fc-4279-b40c-9400777a05e9",
   "metadata": {},
   "outputs": [],
   "source": []
  },
  {
   "cell_type": "code",
   "execution_count": null,
   "id": "b2ad28da-0f45-456d-8672-2c3512d1bf08",
   "metadata": {},
   "outputs": [],
   "source": [
    "class GraphState(TypedDict):\n",
    "    \"\"\"\n",
    "    Represents the state of our graph.\n",
    "\n",
    "    Attributes:\n",
    "        error : Binary flag for control flow to indicate whether test error was tripped\n",
    "        messages : With user question, error messages, reasoning\n",
    "        generation : Code solution\n",
    "        iterations : Number of tries\n",
    "    \"\"\"    \n",
    "    error: str\n",
    "    data_path: str\n",
    "    question: str\n",
    "    input_data: dict[str, Any]\n",
    "    data_schema: str\n",
    "    data_summary: str\n",
    "    messages: Annotated[list, add_messages]\n",
    "    user_query: str\n",
    "    code: str\n",
    "    final_results: dict[str, Any]\n",
    "    \n",
    "\n",
    "    # class Config:\n",
    "    #     arbitrary_types_allowed = True"
   ]
  },
  {
   "cell_type": "code",
   "execution_count": null,
   "id": "5de5fcae-fcb1-40cc-aea4-6e01febef06f",
   "metadata": {},
   "outputs": [],
   "source": [
    "def json_df(json_str)->pd.DataFrame:\n",
    "    import pandas as pd\n",
    "    from io import StringIO\n",
    "    json_buffer = StringIO(json_str)\n",
    "    df = pd.read_json(json_buffer, orient='split')\n",
    "    return df"
   ]
  },
  {
   "cell_type": "code",
   "execution_count": null,
   "id": "7f34b384-7927-4b9f-ab7b-8811471086e0",
   "metadata": {},
   "outputs": [],
   "source": [
    "# inside execute.py\n",
    "\n",
    "import io\n",
    "import sys\n",
    "\n",
    "def execute_generated_code(code, df):\n",
    "    print(\"Started executing generated code\")\n",
    "    # Clean the code by removing block markers and spaces\n",
    "    # clean_code = code.strip('```').strip()  \n",
    "    clean_code = code.replace('```','###')\n",
    "    clean_code = clean_code.replace(\"fig.show()\",\"# fig.show()\")\n",
    "    print('111::',clean_code)\n",
    "    # Redirect stdout to capture print statements\n",
    "    # output_buffer = io.StringIO()\n",
    "    # sys.stdout = output_buffer  \n",
    "    print('222')\n",
    "    # Pass your DataFrame to the local scope\n",
    "    local_scope = {\"df\": df}\n",
    "    print('333')\n",
    "    try:\n",
    "        print('444')\n",
    "        # Execute the code with the DataFrame in the local scope\n",
    "        exec(clean_code, {}, local_scope)\n",
    "        print('555')\n",
    "    except Exception as e:\n",
    "        print(\"Error executing generated code::\",e)\n",
    "        return f\"Error during execution: {e}\"\n",
    "    finally:\n",
    "        print(\"finally\")\n",
    "        # Reset stdout to default after execution\n",
    "        # sys.stdout = sys.__stdout__\n",
    "    print(\"befre return\")\n",
    "    # Return both the output captured and the local scope (for plots or other variables)\n",
    "    # output = output_buffer.getvalue()\n",
    "    print(\"Ended executing generated code\")\n",
    "    return local_scope"
   ]
  },
  {
   "cell_type": "code",
   "execution_count": null,
   "id": "3e2aeac9-6c6c-422d-87f2-584180187e94",
   "metadata": {},
   "outputs": [],
   "source": [
    "def load_data(state: GraphState):\n",
    "    print(state[\"data_path\"])\n",
    "    df = pd.read_csv(state[\"data_path\"])\n",
    "    # df = pd.DataFrame({\"name\": [\"Alice\", \"Bob\"]})\n",
    "    # print(df.shape)\n",
    "    return {\"input_data\":df.to_json(orient='split')}"
   ]
  },
  {
   "cell_type": "code",
   "execution_count": null,
   "id": "67e0a22e-90ad-4f5e-a353-67637d2718db",
   "metadata": {},
   "outputs": [],
   "source": [
    "def summarize_data(state: GraphState):\n",
    "    \n",
    "    df_json = state['input_data']\n",
    "    df = None\n",
    "    if df_json is not None:\n",
    "        df = json_df(df_json)\n",
    "        print(\"summarize_data df shape:\", df.shape)\n",
    "    else:\n",
    "        return {\"data_summary\": None}\n",
    "    columns = list(df.columns)\n",
    "    data_types = df.dtypes.to_dict()\n",
    "\n",
    "    unique_values = {}\n",
    "\n",
    "    # for column in df.columns:\n",
    "    #     if df[column].dtype == 'object' or df[column].dtype.name == 'category':\n",
    "    #         unique_values[column] = df[column].unique().tolist()\n",
    "    #     elif 'datetime' in str(df[column].dtype):\n",
    "    #         date_sample = df[column].dropna().iloc[0]\n",
    "    #         inferred_format = pd.to_datetime([date_sample]).strftime('%Y-%m-%d')[0]\n",
    "    #         unique_values[column] = f\"Date format: {inferred_format}\"\n",
    "\n",
    "\n",
    "    summary = (\n",
    "        f\"Columns: {columns}\\n\"\n",
    "        f\"Data Types: {data_types}\\n\"\n",
    "        # f\"Unique Values for Categorical/Date Columns:\\n{unique_values}\"\n",
    "    )\n",
    "    \n",
    "    return {\"data_summary\":summary}"
   ]
  },
  {
   "cell_type": "code",
   "execution_count": null,
   "id": "f6c5925e",
   "metadata": {},
   "outputs": [],
   "source": [
    "def human_userinput1(state):\n",
    "    print(\"---human_input1---\")    \n",
    "    user_msg = interrupt(\"Enter query\")\n",
    "    # user_msg = \"What is the data schema?\"\n",
    "    # return {\"user_query\": user_msg, \"messages\": [HumanMessage(user_msg)]}\n",
    "    return {\"messages\": [HumanMessage(user_msg)]}"
   ]
  },
  {
   "cell_type": "code",
   "execution_count": null,
   "id": "5d39fc84",
   "metadata": {},
   "outputs": [],
   "source": [
    "# def generate_code1(state: GraphState):\n",
    "#     print(\"---generate_code---\")\n",
    "#     data_summary = state[\"data_summary\"]\n",
    "#     # query = state[\"user_query\"]\n",
    "#     message = state[\"messages\"][-1].content\n",
    "#     print(\"message:\", message)\n",
    "#     system_message = (\n",
    "#         f\"You are a professional data analyst proficient in Python programming.\\n\"\n",
    "#         f\"Based on the following dataset summary:\\n{data_summary}\\n\"\n",
    "#         \"Provide clean python code using pandas and plotly (only the code, nothing else) that when executed will:\\n\"\n",
    "#         \"The code should contain a visualization that is well labelled.\"\n",
    "#         \"Assume the dataset has been read into a dataframe called df.\" \n",
    "#         \"If the query involves generating a chart (e.g., bar plot), please ensure the chart displays no more than 10 categories (top or bottom).\"\n",
    "#         \"If the user specifically requests to show all categories, include that in the code. If no specific instruction is provided, limit the chart to the top or bottom 10 categories based on the count or value\"\n",
    "#         f\" Answer the user's question: '{message}'.\\n\"\n",
    "#     )\n",
    "#     print(\"before llm generate\",system_message)\n",
    "#     response = llm.invoke(system_message)\n",
    "#     print(\"after llm generate\",response)\n",
    "#     return {\"code\": response.content}"
   ]
  },
  {
   "cell_type": "code",
   "execution_count": null,
   "id": "5011e8dd-612b-4b04-95fe-f31e219183b5",
   "metadata": {},
   "outputs": [],
   "source": [
    "def generate_code(state: GraphState):\n",
    "    print(\"---generate_code---\")\n",
    "    data_summary = state[\"data_summary\"]\n",
    "    # query = state[\"user_query\"]\n",
    "    message = state[\"messages\"][-1].content\n",
    "    print(\"message:\", message)\n",
    "    system_message = (\n",
    "        f\"You are a professional data analyst proficient in Python programming.\\n\"\n",
    "        f\"Based on the following dataset summary:\\n{data_summary}\\n\"\n",
    "        \"Provide clean python code using pandas and plotly (only the code, nothing else) that when executed will:\\n\"\n",
    "        \"The code should contain a visualization that is well labelled.\\n\"\n",
    "        \"Assume the dataset has been read into a dataframe called df.\\n\" \n",
    "        \"If the query involves generating a chart (e.g., bar plot), please ensure the chart displays no more than 10 categories (top or bottom).\\n\"\n",
    "        \"If the user specifically requests to show all categories, include that in the code. If no specific instruction is provided, limit the chart to the top or bottom 10 categories based on the count or value\\n\"\n",
    "        \"Make sure all the important results are saved as a dictionary with name 'final_results'. Each result item should be accompanied with description about that item.\\n\"\n",
    "        \"For plotly fig object, include type as 'figure' and None for remaining in final results\"\n",
    "        f\" Answer the user's question: '{message}'.\\n\"\n",
    "    )\n",
    "    print(\"before llm generate\",system_message)\n",
    "    response = llm.invoke(system_message)\n",
    "    print(\"after llm generate\",response)\n",
    "    return {\"code\": response.content}"
   ]
  },
  {
   "cell_type": "code",
   "execution_count": null,
   "id": "3a351186-7488-4ab5-a89f-e91a8a680442",
   "metadata": {},
   "outputs": [],
   "source": [
    "def convert_arrays_to_lists(obj):\n",
    "    if isinstance(obj, np.ndarray) or isinstance(obj, pd.Series):\n",
    "        return obj.tolist()  # Convert NumPy arrays and Pandas Series to lists\n",
    "    elif isinstance(obj, dict):\n",
    "        return {key: convert_arrays_to_lists(value) for key, value in obj.items()}  # Recursively process dict\n",
    "    elif isinstance(obj, list):\n",
    "        return [convert_arrays_to_lists(item) for item in obj]  # Recursively process lists\n",
    "    else:\n",
    "        return obj  # Return as is if it's not an array/series"
   ]
  },
  {
   "cell_type": "code",
   "execution_count": null,
   "id": "52fbd381-8df6-481a-9667-e77d80ee8497",
   "metadata": {},
   "outputs": [],
   "source": [
    "def execute_code(state: GraphState):\n",
    "    print(\"-----Executing code----\")\n",
    "    gen_code = state[\"code\"]\n",
    "    data = json_df(state[\"input_data\"])\n",
    "    results = execute_generated_code(gen_code, data)\n",
    "    if \"df\" in results:\n",
    "        del results[\"df\"]\n",
    "    \n",
    "    if results is not None and 'final_results' in results:\n",
    "        final_results = convert_arrays_to_lists(results['final_results'])\n",
    "        for k,v in final_results.items():\n",
    "            if \"type\" in v and str.lower(v[\"type\"]) == \"figure\":\n",
    "                final_results[k]['value']=plotly_to_echarts(v['value'])\n",
    "        print(\"final_results::\",final_results)\n",
    "        return {\"final_results\":final_results}\n",
    "    else:\n",
    "        return {\"final_results\":None}"
   ]
  },
  {
   "cell_type": "code",
   "execution_count": null,
   "id": "65fdba7c-de5a-4cc8-a25f-2db40eafaa97",
   "metadata": {},
   "outputs": [],
   "source": [
    "def prepare_answer(state: GraphState):\n",
    "    print(\"----prepare answer-----\")\n",
    "    results = state[\"final_results\"]\n",
    "    print(\"Results\",results)\n",
    "    return None\n",
    "    \n",
    "        "
   ]
  },
  {
   "cell_type": "code",
   "execution_count": null,
   "id": "52b89607-4243-4ff2-9717-947a86370499",
   "metadata": {},
   "outputs": [],
   "source": [
    "builder = StateGraph(GraphState)\n",
    "\n",
    "builder.add_node(\"load_data\", load_data)\n",
    "builder.add_node(\"summarize_data\", summarize_data)\n",
    "builder.add_node(\"human_userinput1\", human_userinput1)\n",
    "builder.add_node(\"generate_code\", generate_code)\n",
    "builder.add_node(\"execute_code\", execute_code)\n",
    "builder.add_node(\"prepare_answer\", prepare_answer)\n",
    "builder.add_edge(START, \"load_data\")\n",
    "builder.add_edge(\"load_data\", \"summarize_data\")\n",
    "builder.add_edge(\"summarize_data\", \"human_userinput1\")\n",
    "builder.add_edge(\"human_userinput1\", \"generate_code\")\n",
    "builder.add_edge(\"generate_code\", \"execute_code\")\n",
    "builder.add_edge(\"execute_code\", \"prepare_answer\")\n",
    "builder.add_edge(\"prepare_answer\", END)\n"
   ]
  },
  {
   "cell_type": "code",
   "execution_count": null,
   "id": "1da06479-bf68-4a75-9942-7599a396e848",
   "metadata": {},
   "outputs": [],
   "source": [
    "# Set up memory\n",
    "memory = MemorySaver()\n",
    "# memory = SqliteSaver.from_conn_string(\":memory:\")\n",
    "# Add\n",
    "graph = builder.compile(checkpointer=memory)\n",
    "# graph = builder.compile()\n",
    "\n",
    "# View\n",
    "display(Image(graph.get_graph().draw_mermaid_png()))"
   ]
  },
  {
   "cell_type": "code",
   "execution_count": null,
   "id": "a1079ca1-a798-494e-891c-fa316c990d7a",
   "metadata": {},
   "outputs": [],
   "source": [
    "# Input\n",
    "initial_input = {\"data_path\": r\"D:\\suresh\\work\\projects\\W360_MVP1\\playground\\notebooks\\data\\Electric_Vehicle_Population_Data.csv\"}\n",
    "\n",
    "# Thread\n",
    "thread = {\"configurable\": {\"thread_id\": \"1\"}}\n",
    "\n",
    "# Run the graph until the first interruption\n",
    "for event in graph.stream(initial_input, thread, stream_mode=\"updates\"):\n",
    "    # print(event)\n",
    "    print(\"\\n\")"
   ]
  },
  {
   "cell_type": "code",
   "execution_count": null,
   "id": "c39b29b3-ad77-4887-b2ba-b3ccabbac283",
   "metadata": {},
   "outputs": [],
   "source": [
    "graph.get_state(thread).next"
   ]
  },
  {
   "cell_type": "code",
   "execution_count": null,
   "id": "3ab2e5a4-f4e5-48b2-a268-b89a50851de4",
   "metadata": {},
   "outputs": [],
   "source": [
    "user_text = \"How many counties are there?\"\n",
    "for event in graph.stream(Command(resume=user_text), thread, stream_mode=\"values\"):\n",
    "        # print(event)\n",
    "        print(\"\\n\")\n"
   ]
  },
  {
   "cell_type": "code",
   "execution_count": null,
   "id": "07e231b0-5021-4a42-b0e2-6e73b11170a8",
   "metadata": {},
   "outputs": [],
   "source": [
    "for k, v in event.items():\n",
    "    print(k)"
   ]
  },
  {
   "cell_type": "code",
   "execution_count": null,
   "id": "8b610211-eccf-4929-8035-57640992968f",
   "metadata": {},
   "outputs": [],
   "source": [
    "graph.get_state(thread).next"
   ]
  },
  {
   "cell_type": "code",
   "execution_count": null,
   "id": "27c1655f-be1d-4ea5-8773-d5d374bc96e4",
   "metadata": {},
   "outputs": [],
   "source": [
    "x = {\"a\":10,\"b\":20}\n",
    "print(x)"
   ]
  },
  {
   "cell_type": "code",
   "execution_count": null,
   "id": "f6c54f0e-f717-44c2-b8dc-7b170e0f2de2",
   "metadata": {},
   "outputs": [],
   "source": [
    "str(x)"
   ]
  },
  {
   "cell_type": "code",
   "execution_count": null,
   "id": "bcfcb634-629c-416c-8a6f-ad35b9372bb9",
   "metadata": {},
   "outputs": [],
   "source": [
    "df_json = graph.get_state(thread).values['input_data']\n",
    "input_df = json_df(df_json)\n",
    "print(input_df.shape)"
   ]
  },
  {
   "cell_type": "code",
   "execution_count": null,
   "id": "f9ba9c9d-9f91-4e28-98e5-1e568140cc14",
   "metadata": {},
   "outputs": [],
   "source": [
    "!pip show plotly"
   ]
  },
  {
   "cell_type": "code",
   "execution_count": null,
   "id": "b95d3f2a-16ca-48ba-9edf-93f75ab67f18",
   "metadata": {},
   "outputs": [],
   "source": [
    "code1 = graph.get_state(thread).values['code'].replace(\"```\",\"\")\n",
    "print(code1)"
   ]
  },
  {
   "cell_type": "code",
   "execution_count": null,
   "id": "38c17205-70e2-4c2b-94f5-aa650b5940f8",
   "metadata": {},
   "outputs": [],
   "source": [
    "input_df.head()"
   ]
  },
  {
   "cell_type": "code",
   "execution_count": null,
   "id": "59c22ab5-9838-4bf1-a31c-2f0d42b12a6b",
   "metadata": {},
   "outputs": [],
   "source": [
    "code = \"\"\"```python\n",
    "import pandas as pd\n",
    "import plotly.express as px\n",
    "\n",
    "# Get the number of unique counties\n",
    "num_counties = df['County'].nunique()\n",
    "print(f\"There are {num_counties} counties.\")\n",
    "\n",
    "# Get the top 10 counties by count\n",
    "top_10_counties = df['County'].value_counts().head(10)\n",
    "\n",
    "# Create a bar plot\n",
    "fig = px.bar(x=top_10_counties.index, y=top_10_counties.values, title=\"Top 10 Counties by Count\", labels={'x': 'County', 'y': 'Count'})\n",
    "fig.show()\n",
    "```\"\"\""
   ]
  },
  {
   "cell_type": "code",
   "execution_count": null,
   "id": "0ad39330-b065-41bb-8893-73dc46cb1da2",
   "metadata": {},
   "outputs": [],
   "source": [
    "print(code)"
   ]
  },
  {
   "cell_type": "code",
   "execution_count": null,
   "id": "10d44ff4-c07d-4967-8938-ca7dd2d69379",
   "metadata": {},
   "outputs": [],
   "source": [
    "clean_code = code.strip('```').strip()  \n",
    "print(clean_code)"
   ]
  },
  {
   "cell_type": "code",
   "execution_count": null,
   "id": "fe20e2e9-99bf-488c-a753-dad15aada6b1",
   "metadata": {},
   "outputs": [],
   "source": [
    "import io\n",
    "import sys"
   ]
  },
  {
   "cell_type": "code",
   "execution_count": null,
   "id": "01a823a6-1e35-4177-a589-83d0f3bfacc0",
   "metadata": {},
   "outputs": [],
   "source": [
    "output_buffer = io.StringIO()\n",
    "sys.stdout = output_buffer "
   ]
  },
  {
   "cell_type": "code",
   "execution_count": null,
   "id": "f0bca222-80d9-4af3-a85c-f76da08e3945",
   "metadata": {},
   "outputs": [],
   "source": [
    "clean_code = code.strip('```').strip()  \n",
    "print('111::')\n",
    "# Redirect stdout to capture print statements\n",
    "output_buffer = io.StringIO()\n",
    "sys.stdout = output_buffer  \n",
    "print('222')\n",
    "# Pass your DataFrame to the local scope\n",
    "local_scope = {\"df\": df}\n",
    "print('333')\n"
   ]
  },
  {
   "cell_type": "code",
   "execution_count": null,
   "id": "9e5db32d-f2ba-49a8-aef4-ae84d5697fc2",
   "metadata": {},
   "outputs": [],
   "source": [
    "df = pd.read_csv(r\"D:\\suresh\\work\\projects\\W360_MVP1\\playground\\notebooks\\data\\Electric_Vehicle_Population_Data.csv\")"
   ]
  },
  {
   "cell_type": "code",
   "execution_count": null,
   "id": "a23fef14-140e-4115-8515-1fa570c3f51f",
   "metadata": {},
   "outputs": [],
   "source": [
    "###python\n",
    "import pandas as pd\n",
    "import plotly.express as px\n",
    "\n",
    "# Get the number of unique counties\n",
    "num_counties = df['County'].nunique()\n",
    "print(f\"There are {num_counties} counties.\")\n",
    "\n",
    "# Get the top 10 counties by count\n",
    "top_10_counties = df['County'].value_counts().head(10)\n",
    "\n",
    "# Create a bar plot\n",
    "fig = px.bar(x=top_10_counties.index, y=top_10_counties.values, title=\"Top 10 Counties by Count\", labels={\"x\": \"County\", \"y\": \"Count\"})\n",
    "# fig.show()\n",
    "###"
   ]
  },
  {
   "cell_type": "code",
   "execution_count": null,
   "id": "a61fea26-1242-4abb-bfb4-6aeac22656b2",
   "metadata": {},
   "outputs": [],
   "source": []
  }
 ],
 "metadata": {
  "kernelspec": {
   "display_name": "plgrd",
   "language": "python",
   "name": "plgrd"
  },
  "language_info": {
   "codemirror_mode": {
    "name": "ipython",
    "version": 3
   },
   "file_extension": ".py",
   "mimetype": "text/x-python",
   "name": "python",
   "nbconvert_exporter": "python",
   "pygments_lexer": "ipython3",
   "version": "3.13.1"
  }
 },
 "nbformat": 4,
 "nbformat_minor": 5
}
