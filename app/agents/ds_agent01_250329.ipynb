{
 "cells": [
  {
   "cell_type": "code",
   "execution_count": 1,
   "id": "6c263a74-89f8-42e6-bb32-38b72f25565e",
   "metadata": {},
   "outputs": [],
   "source": [
    "from typing_extensions import TypedDict\n",
    "from langgraph.graph import StateGraph, START, END\n",
    "from langgraph.types import Command, interrupt\n",
    "from langgraph.checkpoint.memory import MemorySaver\n",
    "from IPython.display import Image, display\n",
    "import pandas as pd\n",
    "from typing import Any, Annotated\n",
    "from langgraph.graph.message import add_messages\n",
    "from langchain_groq import ChatGroq\n",
    "from langchain_core.messages import HumanMessage, AIMessage\n",
    "import numpy as np"
   ]
  },
  {
   "cell_type": "code",
   "execution_count": 2,
   "id": "dece0005",
   "metadata": {},
   "outputs": [],
   "source": [
    "GROQ_API_KEY = \"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\""
   ]
  },
  {
   "cell_type": "code",
   "execution_count": 3,
   "id": "a6ab8d9f",
   "metadata": {},
   "outputs": [],
   "source": [
    "llm = ChatGroq(temperature=0.1, groq_api_key=GROQ_API_KEY, model_name=\"llama-3.3-70b-specdec\")"
   ]
  },
  {
   "cell_type": "code",
   "execution_count": 4,
   "id": "b2ad28da-0f45-456d-8672-2c3512d1bf08",
   "metadata": {},
   "outputs": [],
   "source": [
    "class GraphState(TypedDict):\n",
    "    \"\"\"\n",
    "    Represents the state of our graph.\n",
    "\n",
    "    Attributes:\n",
    "        error : Binary flag for control flow to indicate whether test error was tripped\n",
    "        messages : With user question, error messages, reasoning\n",
    "        generation : Code solution\n",
    "        iterations : Number of tries\n",
    "    \"\"\"    \n",
    "    error: str\n",
    "    data_path: str\n",
    "    question: str\n",
    "    input_data: dict[str, Any]\n",
    "    data_schema: str\n",
    "    data_summary: str\n",
    "    messages: Annotated[list, add_messages]\n",
    "    user_query: str\n",
    "    code: str\n",
    "    final_results: dict[str, Any]\n",
    "    final_answer: dict[str, Any]\n",
    "    messages: Annotated[list, add_messages]    \n",
    "\n",
    "    # class Config:\n",
    "    #     arbitrary_types_allowed = True"
   ]
  },
  {
   "cell_type": "code",
   "execution_count": 5,
   "id": "5de5fcae-fcb1-40cc-aea4-6e01febef06f",
   "metadata": {},
   "outputs": [],
   "source": [
    "def json_df(json_str)->pd.DataFrame:\n",
    "    import pandas as pd\n",
    "    from io import StringIO\n",
    "    json_buffer = StringIO(json_str)\n",
    "    df = pd.read_json(json_buffer, orient='split')\n",
    "    return df"
   ]
  },
  {
   "cell_type": "code",
   "execution_count": 6,
   "id": "7f34b384-7927-4b9f-ab7b-8811471086e0",
   "metadata": {},
   "outputs": [],
   "source": [
    "# inside execute.py\n",
    "\n",
    "import io\n",
    "import sys\n",
    "\n",
    "def execute_generated_code(code, df):\n",
    "    print(\"Started executing generated code\")\n",
    "    # Clean the code by removing block markers and spaces\n",
    "    # clean_code = code.strip('```').strip()  \n",
    "    clean_code = code.replace('```','###')\n",
    "    clean_code = clean_code.replace(\"fig.show()\",\"# fig.show()\")\n",
    "    print('111::',clean_code)\n",
    "    # Redirect stdout to capture print statements\n",
    "    # output_buffer = io.StringIO()\n",
    "    # sys.stdout = output_buffer  \n",
    "    print('222')\n",
    "    # Pass your DataFrame to the local scope\n",
    "    local_scope = {\"df\": df}\n",
    "    print('333')\n",
    "    try:\n",
    "        print('444')\n",
    "        # Execute the code with the DataFrame in the local scope\n",
    "        exec(clean_code, {}, local_scope)\n",
    "        print('555')\n",
    "    except Exception as e:\n",
    "        print(\"Error executing generated code::\",e)\n",
    "        return f\"Error during execution: {e}\"\n",
    "    finally:\n",
    "        print(\"finally\")\n",
    "        # Reset stdout to default after execution\n",
    "        # sys.stdout = sys.__stdout__\n",
    "    print(\"befre return\")\n",
    "    # Return both the output captured and the local scope (for plots or other variables)\n",
    "    # output = output_buffer.getvalue()\n",
    "    print(\"Ended executing generated code\")\n",
    "    return local_scope"
   ]
  },
  {
   "cell_type": "code",
   "execution_count": 7,
   "id": "3e2aeac9-6c6c-422d-87f2-584180187e94",
   "metadata": {},
   "outputs": [],
   "source": [
    "def load_data(state: GraphState):\n",
    "    print(state[\"data_path\"])\n",
    "    df = pd.read_csv(state[\"data_path\"])\n",
    "    # df = pd.DataFrame({\"name\": [\"Alice\", \"Bob\"]})\n",
    "    # print(df.shape)\n",
    "    return {\"input_data\":df.to_json(orient='split')}"
   ]
  },
  {
   "cell_type": "code",
   "execution_count": 8,
   "id": "67e0a22e-90ad-4f5e-a353-67637d2718db",
   "metadata": {},
   "outputs": [],
   "source": [
    "def summarize_data(state: GraphState):\n",
    "    \n",
    "    df_json = state['input_data']\n",
    "    df = None\n",
    "    if df_json is not None:\n",
    "        df = json_df(df_json)\n",
    "        print(\"summarize_data df shape:\", df.shape)\n",
    "    else:\n",
    "        return {\"data_summary\": None}\n",
    "    columns = list(df.columns)\n",
    "    data_types = df.dtypes.to_dict()\n",
    "\n",
    "    unique_values = {}\n",
    "\n",
    "    # for column in df.columns:\n",
    "    #     if df[column].dtype == 'object' or df[column].dtype.name == 'category':\n",
    "    #         unique_values[column] = df[column].unique().tolist()\n",
    "    #     elif 'datetime' in str(df[column].dtype):\n",
    "    #         date_sample = df[column].dropna().iloc[0]\n",
    "    #         inferred_format = pd.to_datetime([date_sample]).strftime('%Y-%m-%d')[0]\n",
    "    #         unique_values[column] = f\"Date format: {inferred_format}\"\n",
    "\n",
    "\n",
    "    summary = (\n",
    "        f\"Columns: {columns}\\n\"\n",
    "        f\"Data Types: {data_types}\\n\"\n",
    "        # f\"Unique Values for Categorical/Date Columns:\\n{unique_values}\"\n",
    "    )\n",
    "    \n",
    "    return {\"data_summary\":summary}"
   ]
  },
  {
   "cell_type": "code",
   "execution_count": 9,
   "id": "f6c5925e",
   "metadata": {},
   "outputs": [],
   "source": [
    "def human_userinput(state):\n",
    "    print(\"---human_input1---\")    \n",
    "    user_msg = interrupt(\"Enter query\")\n",
    "    # state['user_query']=user_msg\n",
    "    # user_msg = \"What is the data schema?\"\n",
    "    return {\"user_query\": user_msg, \"messages\": [HumanMessage(user_msg)]}\n",
    "    # return {\"messages\": [HumanMessage(user_msg)]}"
   ]
  },
  {
   "cell_type": "code",
   "execution_count": 10,
   "id": "5011e8dd-612b-4b04-95fe-f31e219183b5",
   "metadata": {},
   "outputs": [],
   "source": [
    "def generate_code(state: GraphState):\n",
    "    print(\"---generate_code---\")\n",
    "    data_summary = state[\"data_summary\"]\n",
    "    # query = state[\"user_query\"]\n",
    "    message = state[\"messages\"][-1].content\n",
    "    print(\"message:\", message)\n",
    "    system_message = (\n",
    "        f\"You are a professional data analyst proficient in Python programming.\\n\"\n",
    "        f\"Based on the following dataset summary:\\n{data_summary}\\n\"\n",
    "        \"Provide clean python code using pandas and plotly (only the code, nothing else) that when executed will:\\n\"\n",
    "        \"The code should contain a visualization that is well labelled.\\n\"\n",
    "        \"Assume the dataset has been read into a dataframe called df.\\n\" \n",
    "        \"If the query involves generating a chart (e.g., bar plot), please ensure the chart displays no more than 10 categories (top or bottom).\\n\"\n",
    "        \"If the user specifically requests to show all categories, include that in the code. If no specific instruction is provided, limit the chart to the top or bottom 10 categories based on the count or value\\n\"\n",
    "        \"Make sure all the important results are saved as a dictionary with name 'final_results'. \\n\"\n",
    "        \"For plotly fig object, include type as 'figure'.\"\n",
    "        \"Each result item should be dictionary with keys value, type and description about that item. Example :{'type':'str','value':'There are 10 counties', 'description':'Count of counties'}\"\n",
    "        # \"For objects with datatypes not serializable like pandas DataFrame or Series, assign serialized data to value.\"\n",
    "        \"Make sure the generated code is surrounded with try and catch . In exception handler print the error.\"\n",
    "        f\" Answer the user's question: '{message}'.\\n\"\n",
    "    )\n",
    "    print(\"before llm generate\",system_message)\n",
    "    response = llm.invoke(system_message)\n",
    "    print(\"after llm generate\",response)\n",
    "    return {\"code\": response.content}"
   ]
  },
  {
   "cell_type": "code",
   "execution_count": 11,
   "id": "3a351186-7488-4ab5-a89f-e91a8a680442",
   "metadata": {},
   "outputs": [],
   "source": [
    "def convert_arrays_to_lists(obj):\n",
    "    if isinstance(obj, np.ndarray):\n",
    "        return obj.tolist()  # Convert NumPy arrays and Pandas Series to lists\n",
    "    elif isinstance(obj, pd.Series):\n",
    "        return obj.to_json(orient='index')\n",
    "    elif isinstance(obj, pd.DataFrame):\n",
    "        return obj.to_json(orient='records')\n",
    "    elif isinstance(obj, dict):\n",
    "        return {key: convert_arrays_to_lists(value) for key, value in obj.items()}  # Recursively process dict\n",
    "    elif isinstance(obj, list):\n",
    "        return [convert_arrays_to_lists(item) for item in obj]  # Recursively process lists\n",
    "    else:\n",
    "        return obj  # Return as is if it's not an array/series"
   ]
  },
  {
   "cell_type": "code",
   "execution_count": 20,
   "id": "52fbd381-8df6-481a-9667-e77d80ee8497",
   "metadata": {},
   "outputs": [],
   "source": [
    "def execute_code(state: GraphState):\n",
    "    print(\"-----Executing code----\")\n",
    "    gen_code = state[\"code\"]\n",
    "    data = json_df(state[\"input_data\"])\n",
    "    results = execute_generated_code(gen_code, data)\n",
    "    if \"df\" in results:\n",
    "        del results[\"df\"]\n",
    "    final_results = None\n",
    "    if results is not None and 'final_results' in results:\n",
    "        # final_results = convert_arrays_to_lists(results['final_results'])\n",
    "        final_results = results['final_results']\n",
    "        for k,v in final_results.items():\n",
    "            print(\"K::\",k,v[\"type\"])\n",
    "            if \"type\" in v:\n",
    "                if str.lower(v[\"type\"]) == \"figure\":\n",
    "                    # print(\"$$$$$$$$$$$\",k,\"::::::\",v)\n",
    "                    final_results[k]['value']=v['value'].to_json()\n",
    "                elif str.lower(v[\"type\"]) == \"series\":\n",
    "                    print(\"before conversion\")\n",
    "                    final_results[k]['value']=v['value'].astype(str).to_json(orient='index')\n",
    "                    print(\"after conversion\")\n",
    "                elif str.lower(v[\"type\"]) == \"dataframe\":\n",
    "                    # print(\"$$$$$$$$$$$\",k,\"::::::\",v)\n",
    "                    final_results[k]['value']=v['value'].to_json(orient='split')\n",
    "            else:\n",
    "                if 'Series' in str(type(final_results[k]['value'])):\n",
    "                    final_results[k]['type'] = 'series'\n",
    "                elif 'DataFrame' in str(type(final_results[k]['value'])):\n",
    "                    final_results[k]['type'] = 'dataframe'\n",
    "                else:\n",
    "                    final_results[k]['type'] = str(type(final_results[k]['value']))\n",
    "        # print(\"final_results::\",final_results)\n",
    "    #     return {\"final_results\":final_results}\n",
    "    \n",
    "    # else:\n",
    "    #     return {\"final_results\":\"\"}\n",
    "    final_answer = prepare_answer(state['user_query'],final_results)\n",
    "    ai_message = get_ai_message(final_answer)\n",
    "    return {\"final_answer\":final_answer, \"messages\": [AIMessage(json.dumps(ai_message))]}\n",
    "\n",
    "    "
   ]
  },
  {
   "cell_type": "code",
   "execution_count": 21,
   "id": "8c519ae3-24fe-4f49-ac9c-b748e1cc44e7",
   "metadata": {},
   "outputs": [],
   "source": [
    "def get_ai_message(final_answer):\n",
    "    message_txts = {}\n",
    "    for k,v in final_answer.items():\n",
    "        if k=='text_answer' and v is not None:\n",
    "            message_txts[k]=v\n",
    "        elif k=='tables' and isinstance(v,list):\n",
    "            new_list=[]\n",
    "            for element in v:\n",
    "                if 'value' in element:\n",
    "                    del element['value']\n",
    "                new_list.append(element)\n",
    "            message_txts[k]=new_list\n",
    "        else:\n",
    "            pass\n",
    "    return message_txts"
   ]
  },
  {
   "cell_type": "code",
   "execution_count": 22,
   "id": "65fdba7c-de5a-4cc8-a25f-2db40eafaa97",
   "metadata": {},
   "outputs": [],
   "source": [
    "def prepare_answer(user_query: str, fin_results: dict):\n",
    "    print(\"----prepare answer-----\")\n",
    "    if fin_results is None:\n",
    "        return None\n",
    "    plots = []\n",
    "    text_outputs= []\n",
    "    tables = []\n",
    "    for k, v in fin_results.items():\n",
    "        print(\"K::\",v['type'])\n",
    "        if \"type\" in v and v['type'].startswith('fig'):\n",
    "            plots.append(v['value'])\n",
    "        elif \"type\" in v and v['type'].lower() == 'series':\n",
    "            \n",
    "            ser = v\n",
    "            # ser['value']=ser['value'].to_json(orient='index')\n",
    "            tables.append(ser)\n",
    "        elif \"type\" in v and v['type'].lower() == 'dataframe':\n",
    "            tab = v\n",
    "            # tab['value']=tab['value'].to_json(orient='split')\n",
    "            tables.append(tab)\n",
    "        else:\n",
    "            text_outputs.append({k:v})\n",
    "    \n",
    "    final_answer = {}\n",
    "    if len(text_outputs)>0:\n",
    "        answer_prompt = f\"\"\"Generate the brief answer for the given question using the related JSON data\n",
    "                        Query: {user_query}\n",
    "                        JSON: {text_outputs}\n",
    "                        Answer:\n",
    "                        \"\"\"\n",
    "        resp = llm.invoke(answer_prompt)\n",
    "        final_answer['text_answer']=resp.content\n",
    "    else:\n",
    "        final_answer['text_answer']= None\n",
    "    final_answer['tables']=tables\n",
    "    final_answer['visualization']=plots\n",
    "    print(\"final_answer############\", final_answer)\n",
    "    return final_answer\n",
    "    \n",
    "        "
   ]
  },
  {
   "cell_type": "code",
   "execution_count": 35,
   "id": "52b89607-4243-4ff2-9717-947a86370499",
   "metadata": {},
   "outputs": [
    {
     "data": {
      "text/plain": [
       "<langgraph.graph.state.StateGraph at 0x2383e5bf4d0>"
      ]
     },
     "execution_count": 35,
     "metadata": {},
     "output_type": "execute_result"
    }
   ],
   "source": [
    "builder = StateGraph(GraphState)\n",
    "\n",
    "builder.add_node(\"load_data\", load_data)\n",
    "builder.add_node(\"summarize_data\", summarize_data)\n",
    "builder.add_node(\"human_userinput\", human_userinput)\n",
    "builder.add_node(\"generate_code\", generate_code)\n",
    "builder.add_node(\"execute_code\", execute_code)\n",
    "# builder.add_node(\"prep_ans\", prep_ans)\n",
    "builder.add_edge(START, \"load_data\")\n",
    "builder.add_edge(\"load_data\", \"summarize_data\")\n",
    "builder.add_edge(\"summarize_data\", \"human_userinput\")\n",
    "builder.add_edge(\"human_userinput\", \"generate_code\")\n",
    "builder.add_edge(\"generate_code\", \"execute_code\")\n",
    "# builder.add_edge(\"generate_code\", \"prep_ans\")\n",
    "builder.add_edge(\"execute_code\", \"human_userinput\")\n"
   ]
  },
  {
   "cell_type": "code",
   "execution_count": 36,
   "id": "1da06479-bf68-4a75-9942-7599a396e848",
   "metadata": {},
   "outputs": [
    {
     "data": {
      "image/png": "[encoded data removed]",
      "text/plain": [
       "<IPython.core.display.Image object>"
      ]
     },
     "metadata": {},
     "output_type": "display_data"
    }
   ],
   "source": [
    "# Set up memory\n",
    "memory = MemorySaver()\n",
    "# memory = SqliteSaver.from_conn_string(\":memory:\")\n",
    "# Add\n",
    "graph = builder.compile(checkpointer=memory)\n",
    "# graph = builder.compile()\n",
    "\n",
    "# View\n",
    "display(Image(graph.get_graph().draw_mermaid_png()))"
   ]
  },
  {
   "cell_type": "code",
   "execution_count": 37,
   "id": "a1079ca1-a798-494e-891c-fa316c990d7a",
   "metadata": {},
   "outputs": [
    {
     "name": "stdout",
     "output_type": "stream",
     "text": [
      "D:\\suresh\\work\\projects\\W360_MVP1\\playground\\notebooks\\data\\Electric_Vehicle_Population_Data.csv\n",
      "\n",
      "\n",
      "summarize_data df shape: (177866, 17)\n",
      "\n",
      "\n",
      "---human_input1---\n",
      "\n",
      "\n"
     ]
    }
   ],
   "source": [
    "# Input\n",
    "initial_input = {\"data_path\": r\"D:\\suresh\\work\\projects\\W360_MVP1\\playground\\notebooks\\data\\Electric_Vehicle_Population_Data.csv\"}\n",
    "\n",
    "# Thread\n",
    "thread = {\"configurable\": {\"thread_id\": \"1\"}}\n",
    "\n",
    "# Run the graph until the first interruption\n",
    "for event in graph.stream(initial_input, thread, stream_mode=\"updates\"):\n",
    "    # print(event)\n",
    "    print(\"\\n\")"
   ]
  },
  {
   "cell_type": "code",
   "execution_count": 44,
   "id": "c39b29b3-ad77-4887-b2ba-b3ccabbac283",
   "metadata": {},
   "outputs": [
    {
     "data": {
      "text/plain": [
       "('human_userinput',)"
      ]
     },
     "execution_count": 44,
     "metadata": {},
     "output_type": "execute_result"
    }
   ],
   "source": [
    "graph.get_state(thread).next"
   ]
  },
  {
   "cell_type": "code",
   "execution_count": 39,
   "id": "faf63f9e-f580-4a22-8089-e0c055ae803b",
   "metadata": {},
   "outputs": [
    {
     "name": "stdout",
     "output_type": "stream",
     "text": [
      "\n",
      "\n",
      "---human_input1---\n",
      "\n",
      "\n",
      "---generate_code---\n",
      "message: Show me the summary of the given dataset?\n",
      "before llm generate You are a professional data analyst proficient in Python programming.\n",
      "Based on the following dataset summary:\n",
      "Columns: ['VIN (1-10)', 'County', 'City', 'State', 'Postal Code', 'Model Year', 'Make', 'Model', 'Electric Vehicle Type', 'Clean Alternative Fuel Vehicle (CAFV) Eligibility', 'Electric Range', 'Base MSRP', 'Legislative District', 'DOL Vehicle ID', 'Vehicle Location', 'Electric Utility', '2020 Census Tract']\n",
      "Data Types: {'VIN (1-10)': dtype('O'), 'County': dtype('O'), 'City': dtype('O'), 'State': dtype('O'), 'Postal Code': dtype('float64'), 'Model Year': dtype('int64'), 'Make': dtype('O'), 'Model': dtype('O'), 'Electric Vehicle Type': dtype('O'), 'Clean Alternative Fuel Vehicle (CAFV) Eligibility': dtype('O'), 'Electric Range': dtype('int64'), 'Base MSRP': dtype('int64'), 'Legislative District': dtype('float64'), 'DOL Vehicle ID': dtype('int64'), 'Vehicle Location': dtype('O'), 'Electric Utility': dtype('O'), '2020 Census Tract': dtype('float64')}\n",
      "\n",
      "Provide clean python code using pandas and plotly (only the code, nothing else) that when executed will:\n",
      "The code should contain a visualization that is well labelled.\n",
      "Assume the dataset has been read into a dataframe called df.\n",
      "If the query involves generating a chart (e.g., bar plot), please ensure the chart displays no more than 10 categories (top or bottom).\n",
      "If the user specifically requests to show all categories, include that in the code. If no specific instruction is provided, limit the chart to the top or bottom 10 categories based on the count or value\n",
      "Make sure all the important results are saved as a dictionary with name 'final_results'. \n",
      "For plotly fig object, include type as 'figure'.Each result item should be dictionary with keys value, type and description about that item. Example :{'type':'str','value':'There are 10 counties', 'description':'Count of counties'}Make sure the generated code is surrounded with try and catch . In exception handler print the error. Answer the user's question: 'Show me the summary of the given dataset?'.\n",
      "\n",
      "after llm generate content='```python\\ntry:\\n    import pandas as pd\\n    import plotly.express as px\\n\\n    # Get summary of the dataset\\n    summary = df.describe()\\n\\n    # Get count of unique values in each column\\n    unique_counts = df.nunique()\\n\\n    # Get data types of each column\\n    data_types = df.dtypes\\n\\n    # Get top 10 counties by count\\n    top_counties = df[\\'County\\'].value_counts().head(10)\\n\\n    # Create bar plot for top 10 counties\\n    fig = px.bar(x=top_counties.index, y=top_counties.values, title=\\'Top 10 Counties by Count\\')\\n    fig.update_layout(xaxis_title=\\'County\\', yaxis_title=\\'Count\\')\\n\\n    # Create final results dictionary\\n    final_results = {\\n        \\'summary\\': {\\'type\\': \\'dataframe\\', \\'value\\': summary, \\'description\\': \\'Summary of the dataset\\'},\\n        \\'unique_counts\\': {\\'type\\': \\'series\\', \\'value\\': unique_counts, \\'description\\': \\'Count of unique values in each column\\'},\\n        \\'data_types\\': {\\'type\\': \\'series\\', \\'value\\': data_types, \\'description\\': \\'Data types of each column\\'},\\n        \\'top_counties\\': {\\'type\\': \\'series\\', \\'value\\': top_counties, \\'description\\': \\'Top 10 counties by count\\'},\\n        \\'top_counties_plot\\': {\\'type\\': \\'figure\\', \\'value\\': fig, \\'description\\': \\'Bar plot of top 10 counties by count\\'}\\n    }\\n\\n    # Print final results\\n    for key, value in final_results.items():\\n        print(f\"{key}: {value[\\'description\\']}\")\\n\\nexcept Exception as e:\\n    print(f\"An error occurred: {e}\")\\n```' additional_kwargs={} response_metadata={'token_usage': {'completion_tokens': 352, 'prompt_tokens': 522, 'total_tokens': 874, 'completion_time': 0.16297149, 'prompt_time': 0.100791007, 'queue_time': 0.048751629000000005, 'total_time': 0.263762497}, 'model_name': 'llama-3.3-70b-specdec', 'system_fingerprint': 'fp_985f1e4133', 'finish_reason': 'stop', 'logprobs': None} id='run-eb84614d-0291-4d9f-9235-1d38ae29d380-0' usage_metadata={'input_tokens': 522, 'output_tokens': 352, 'total_tokens': 874}\n",
      "\n",
      "\n",
      "-----Executing code----\n",
      "Started executing generated code\n",
      "111:: ###python\n",
      "try:\n",
      "    import pandas as pd\n",
      "    import plotly.express as px\n",
      "\n",
      "    # Get summary of the dataset\n",
      "    summary = df.describe()\n",
      "\n",
      "    # Get count of unique values in each column\n",
      "    unique_counts = df.nunique()\n",
      "\n",
      "    # Get data types of each column\n",
      "    data_types = df.dtypes\n",
      "\n",
      "    # Get top 10 counties by count\n",
      "    top_counties = df['County'].value_counts().head(10)\n",
      "\n",
      "    # Create bar plot for top 10 counties\n",
      "    fig = px.bar(x=top_counties.index, y=top_counties.values, title='Top 10 Counties by Count')\n",
      "    fig.update_layout(xaxis_title='County', yaxis_title='Count')\n",
      "\n",
      "    # Create final results dictionary\n",
      "    final_results = {\n",
      "        'summary': {'type': 'dataframe', 'value': summary, 'description': 'Summary of the dataset'},\n",
      "        'unique_counts': {'type': 'series', 'value': unique_counts, 'description': 'Count of unique values in each column'},\n",
      "        'data_types': {'type': 'series', 'value': data_types, 'description': 'Data types of each column'},\n",
      "        'top_counties': {'type': 'series', 'value': top_counties, 'description': 'Top 10 counties by count'},\n",
      "        'top_counties_plot': {'type': 'figure', 'value': fig, 'description': 'Bar plot of top 10 counties by count'}\n",
      "    }\n",
      "\n",
      "    # Print final results\n",
      "    for key, value in final_results.items():\n",
      "        print(f\"{key}: {value['description']}\")\n",
      "\n",
      "except Exception as e:\n",
      "    print(f\"An error occurred: {e}\")\n",
      "###\n",
      "222\n",
      "333\n",
      "444\n",
      "summary: Summary of the dataset\n",
      "unique_counts: Count of unique values in each column\n",
      "data_types: Data types of each column\n",
      "top_counties: Top 10 counties by count\n",
      "top_counties_plot: Bar plot of top 10 counties by count\n",
      "555\n",
      "finally\n",
      "befre return\n",
      "Ended executing generated code\n",
      "K:: summary dataframe\n",
      "K:: unique_counts series\n",
      "before conversion\n",
      "after conversion\n",
      "K:: data_types series\n",
      "before conversion\n",
      "after conversion\n",
      "K:: top_counties series\n",
      "before conversion\n",
      "after conversion\n",
      "K:: top_counties_plot figure\n",
      "----prepare answer-----\n",
      "K:: dataframe\n",
      "K:: series\n",
      "K:: series\n",
      "K:: series\n",
      "K:: figure\n",
      "final_answer############ {'text_answer': None, 'tables': [{'type': 'dataframe', 'value': '{\"columns\":[\"Postal Code\",\"Model Year\",\"Electric Range\",\"Base MSRP\",\"Legislative District\",\"DOL Vehicle ID\",\"2020 Census Tract\"],\"index\":[\"count\",\"mean\",\"std\",\"min\",\"25%\",\"50%\",\"75%\",\"max\"],\"data\":[[177861.0,177866.0,177866.0,177866.0,177477.0,177866.0,177861.0],[98172.4535058276,2020.5155116773,58.8421620771,1073.1093632285,29.1274813074,220231266.054546684,52976721055.5579605103],[2442.4506680215,2.9893839502,91.9812976942,8358.6249560911,14.8921685395,75849866.1225648522,1578046771.1668965816],[1545.0,1997.0,0.0,0.0,1.0,4385.0,1001020100.0],[98052.0,2019.0,0.0,0.0,18.0,181474348.5,53033009702.0],[98122.0,2022.0,0.0,0.0,33.0,228252237.0,53033029602.0],[98370.0,2023.0,75.0,0.0,42.0,254844512.5,53053073001.0],[99577.0,2024.0,337.0,845000.0,49.0,479254772.0,56033000100.0]]}', 'description': 'Summary of the dataset'}, {'type': 'series', 'value': '{\"VIN (1-10)\":\"10830\",\"County\":\"196\",\"City\":\"723\",\"State\":\"46\",\"Postal Code\":\"862\",\"Model Year\":\"22\",\"Make\":\"40\",\"Model\":\"139\",\"Electric Vehicle Type\":\"2\",\"Clean Alternative Fuel Vehicle (CAFV) Eligibility\":\"3\",\"Electric Range\":\"102\",\"Base MSRP\":\"31\",\"Legislative District\":\"49\",\"DOL Vehicle ID\":\"177866\",\"Vehicle Location\":\"861\",\"Electric Utility\":\"76\",\"2020 Census Tract\":\"2115\"}', 'description': 'Count of unique values in each column'}, {'type': 'series', 'value': '{\"VIN (1-10)\":\"object\",\"County\":\"object\",\"City\":\"object\",\"State\":\"object\",\"Postal Code\":\"float64\",\"Model Year\":\"int64\",\"Make\":\"object\",\"Model\":\"object\",\"Electric Vehicle Type\":\"object\",\"Clean Alternative Fuel Vehicle (CAFV) Eligibility\":\"object\",\"Electric Range\":\"int64\",\"Base MSRP\":\"int64\",\"Legislative District\":\"float64\",\"DOL Vehicle ID\":\"int64\",\"Vehicle Location\":\"object\",\"Electric Utility\":\"object\",\"2020 Census Tract\":\"float64\"}', 'description': 'Data types of each column'}, {'type': 'series', 'value': '{\"King\":\"92740\",\"Snohomish\":\"21001\",\"Pierce\":\"13782\",\"Clark\":\"10416\",\"Thurston\":\"6428\",\"Kitsap\":\"5840\",\"Spokane\":\"4586\",\"Whatcom\":\"4253\",\"Benton\":\"2147\",\"Skagit\":\"1910\"}', 'description': 'Top 10 counties by count'}], 'visualization': ['{\"data\":[{\"hovertemplate\":\"x=%{x}\\\\u003cbr\\\\u003ey=%{y}\\\\u003cextra\\\\u003e\\\\u003c\\\\u002fextra\\\\u003e\",\"legendgroup\":\"\",\"marker\":{\"color\":\"#636efa\",\"pattern\":{\"shape\":\"\"}},\"name\":\"\",\"orientation\":\"v\",\"showlegend\":false,\"textposition\":\"auto\",\"x\":[\"King\",\"Snohomish\",\"Pierce\",\"Clark\",\"Thurston\",\"Kitsap\",\"Spokane\",\"Whatcom\",\"Benton\",\"Skagit\"],\"xaxis\":\"x\",\"y\":{\"dtype\":\"i4\",\"bdata\":\"RGoBAAlSAADWNQAAsCgAABwZAADQFgAA6hEAAJ0QAABjCAAAdgcAAA==\"},\"yaxis\":\"y\",\"type\":\"bar\"}],\"layout\":{\"template\":{\"data\":{\"histogram2dcontour\":[{\"type\":\"histogram2dcontour\",\"colorbar\":{\"outlinewidth\":0,\"ticks\":\"\"},\"colorscale\":[[0.0,\"#0d0887\"],[0.1111111111111111,\"#46039f\"],[0.2222222222222222,\"#7201a8\"],[0.3333333333333333,\"#9c179e\"],[0.4444444444444444,\"#bd3786\"],[0.5555555555555556,\"#d8576b\"],[0.6666666666666666,\"#ed7953\"],[0.7777777777777778,\"#fb9f3a\"],[0.8888888888888888,\"#fdca26\"],[1.0,\"#f0f921\"]]}],\"choropleth\":[{\"type\":\"choropleth\",\"colorbar\":{\"outlinewidth\":0,\"ticks\":\"\"}}],\"histogram2d\":[{\"type\":\"histogram2d\",\"colorbar\":{\"outlinewidth\":0,\"ticks\":\"\"},\"colorscale\":[[0.0,\"#0d0887\"],[0.1111111111111111,\"#46039f\"],[0.2222222222222222,\"#7201a8\"],[0.3333333333333333,\"#9c179e\"],[0.4444444444444444,\"#bd3786\"],[0.5555555555555556,\"#d8576b\"],[0.6666666666666666,\"#ed7953\"],[0.7777777777777778,\"#fb9f3a\"],[0.8888888888888888,\"#fdca26\"],[1.0,\"#f0f921\"]]}],\"heatmap\":[{\"type\":\"heatmap\",\"colorbar\":{\"outlinewidth\":0,\"ticks\":\"\"},\"colorscale\":[[0.0,\"#0d0887\"],[0.1111111111111111,\"#46039f\"],[0.2222222222222222,\"#7201a8\"],[0.3333333333333333,\"#9c179e\"],[0.4444444444444444,\"#bd3786\"],[0.5555555555555556,\"#d8576b\"],[0.6666666666666666,\"#ed7953\"],[0.7777777777777778,\"#fb9f3a\"],[0.8888888888888888,\"#fdca26\"],[1.0,\"#f0f921\"]]}],\"contourcarpet\":[{\"type\":\"contourcarpet\",\"colorbar\":{\"outlinewidth\":0,\"ticks\":\"\"}}],\"contour\":[{\"type\":\"contour\",\"colorbar\":{\"outlinewidth\":0,\"ticks\":\"\"},\"colorscale\":[[0.0,\"#0d0887\"],[0.1111111111111111,\"#46039f\"],[0.2222222222222222,\"#7201a8\"],[0.3333333333333333,\"#9c179e\"],[0.4444444444444444,\"#bd3786\"],[0.5555555555555556,\"#d8576b\"],[0.6666666666666666,\"#ed7953\"],[0.7777777777777778,\"#fb9f3a\"],[0.8888888888888888,\"#fdca26\"],[1.0,\"#f0f921\"]]}],\"surface\":[{\"type\":\"surface\",\"colorbar\":{\"outlinewidth\":0,\"ticks\":\"\"},\"colorscale\":[[0.0,\"#0d0887\"],[0.1111111111111111,\"#46039f\"],[0.2222222222222222,\"#7201a8\"],[0.3333333333333333,\"#9c179e\"],[0.4444444444444444,\"#bd3786\"],[0.5555555555555556,\"#d8576b\"],[0.6666666666666666,\"#ed7953\"],[0.7777777777777778,\"#fb9f3a\"],[0.8888888888888888,\"#fdca26\"],[1.0,\"#f0f921\"]]}],\"mesh3d\":[{\"type\":\"mesh3d\",\"colorbar\":{\"outlinewidth\":0,\"ticks\":\"\"}}],\"scatter\":[{\"fillpattern\":{\"fillmode\":\"overlay\",\"size\":10,\"solidity\":0.2},\"type\":\"scatter\"}],\"parcoords\":[{\"type\":\"parcoords\",\"line\":{\"colorbar\":{\"outlinewidth\":0,\"ticks\":\"\"}}}],\"scatterpolargl\":[{\"type\":\"scatterpolargl\",\"marker\":{\"colorbar\":{\"outlinewidth\":0,\"ticks\":\"\"}}}],\"bar\":[{\"error_x\":{\"color\":\"#2a3f5f\"},\"error_y\":{\"color\":\"#2a3f5f\"},\"marker\":{\"line\":{\"color\":\"#E5ECF6\",\"width\":0.5},\"pattern\":{\"fillmode\":\"overlay\",\"size\":10,\"solidity\":0.2}},\"type\":\"bar\"}],\"scattergeo\":[{\"type\":\"scattergeo\",\"marker\":{\"colorbar\":{\"outlinewidth\":0,\"ticks\":\"\"}}}],\"scatterpolar\":[{\"type\":\"scatterpolar\",\"marker\":{\"colorbar\":{\"outlinewidth\":0,\"ticks\":\"\"}}}],\"histogram\":[{\"marker\":{\"pattern\":{\"fillmode\":\"overlay\",\"size\":10,\"solidity\":0.2}},\"type\":\"histogram\"}],\"scattergl\":[{\"type\":\"scattergl\",\"marker\":{\"colorbar\":{\"outlinewidth\":0,\"ticks\":\"\"}}}],\"scatter3d\":[{\"type\":\"scatter3d\",\"line\":{\"colorbar\":{\"outlinewidth\":0,\"ticks\":\"\"}},\"marker\":{\"colorbar\":{\"outlinewidth\":0,\"ticks\":\"\"}}}],\"scattermap\":[{\"type\":\"scattermap\",\"marker\":{\"colorbar\":{\"outlinewidth\":0,\"ticks\":\"\"}}}],\"scattermapbox\":[{\"type\":\"scattermapbox\",\"marker\":{\"colorbar\":{\"outlinewidth\":0,\"ticks\":\"\"}}}],\"scatterternary\":[{\"type\":\"scatterternary\",\"marker\":{\"colorbar\":{\"outlinewidth\":0,\"ticks\":\"\"}}}],\"scattercarpet\":[{\"type\":\"scattercarpet\",\"marker\":{\"colorbar\":{\"outlinewidth\":0,\"ticks\":\"\"}}}],\"carpet\":[{\"aaxis\":{\"endlinecolor\":\"#2a3f5f\",\"gridcolor\":\"white\",\"linecolor\":\"white\",\"minorgridcolor\":\"white\",\"startlinecolor\":\"#2a3f5f\"},\"baxis\":{\"endlinecolor\":\"#2a3f5f\",\"gridcolor\":\"white\",\"linecolor\":\"white\",\"minorgridcolor\":\"white\",\"startlinecolor\":\"#2a3f5f\"},\"type\":\"carpet\"}],\"table\":[{\"cells\":{\"fill\":{\"color\":\"#EBF0F8\"},\"line\":{\"color\":\"white\"}},\"header\":{\"fill\":{\"color\":\"#C8D4E3\"},\"line\":{\"color\":\"white\"}},\"type\":\"table\"}],\"barpolar\":[{\"marker\":{\"line\":{\"color\":\"#E5ECF6\",\"width\":0.5},\"pattern\":{\"fillmode\":\"overlay\",\"size\":10,\"solidity\":0.2}},\"type\":\"barpolar\"}],\"pie\":[{\"automargin\":true,\"type\":\"pie\"}]},\"layout\":{\"autotypenumbers\":\"strict\",\"colorway\":[\"#636efa\",\"#EF553B\",\"#00cc96\",\"#ab63fa\",\"#FFA15A\",\"#19d3f3\",\"#FF6692\",\"#B6E880\",\"#FF97FF\",\"#FECB52\"],\"font\":{\"color\":\"#2a3f5f\"},\"hovermode\":\"closest\",\"hoverlabel\":{\"align\":\"left\"},\"paper_bgcolor\":\"white\",\"plot_bgcolor\":\"#E5ECF6\",\"polar\":{\"bgcolor\":\"#E5ECF6\",\"angularaxis\":{\"gridcolor\":\"white\",\"linecolor\":\"white\",\"ticks\":\"\"},\"radialaxis\":{\"gridcolor\":\"white\",\"linecolor\":\"white\",\"ticks\":\"\"}},\"ternary\":{\"bgcolor\":\"#E5ECF6\",\"aaxis\":{\"gridcolor\":\"white\",\"linecolor\":\"white\",\"ticks\":\"\"},\"baxis\":{\"gridcolor\":\"white\",\"linecolor\":\"white\",\"ticks\":\"\"},\"caxis\":{\"gridcolor\":\"white\",\"linecolor\":\"white\",\"ticks\":\"\"}},\"coloraxis\":{\"colorbar\":{\"outlinewidth\":0,\"ticks\":\"\"}},\"colorscale\":{\"sequential\":[[0.0,\"#0d0887\"],[0.1111111111111111,\"#46039f\"],[0.2222222222222222,\"#7201a8\"],[0.3333333333333333,\"#9c179e\"],[0.4444444444444444,\"#bd3786\"],[0.5555555555555556,\"#d8576b\"],[0.6666666666666666,\"#ed7953\"],[0.7777777777777778,\"#fb9f3a\"],[0.8888888888888888,\"#fdca26\"],[1.0,\"#f0f921\"]],\"sequentialminus\":[[0.0,\"#0d0887\"],[0.1111111111111111,\"#46039f\"],[0.2222222222222222,\"#7201a8\"],[0.3333333333333333,\"#9c179e\"],[0.4444444444444444,\"#bd3786\"],[0.5555555555555556,\"#d8576b\"],[0.6666666666666666,\"#ed7953\"],[0.7777777777777778,\"#fb9f3a\"],[0.8888888888888888,\"#fdca26\"],[1.0,\"#f0f921\"]],\"diverging\":[[0,\"#8e0152\"],[0.1,\"#c51b7d\"],[0.2,\"#de77ae\"],[0.3,\"#f1b6da\"],[0.4,\"#fde0ef\"],[0.5,\"#f7f7f7\"],[0.6,\"#e6f5d0\"],[0.7,\"#b8e186\"],[0.8,\"#7fbc41\"],[0.9,\"#4d9221\"],[1,\"#276419\"]]},\"xaxis\":{\"gridcolor\":\"white\",\"linecolor\":\"white\",\"ticks\":\"\",\"title\":{\"standoff\":15},\"zerolinecolor\":\"white\",\"automargin\":true,\"zerolinewidth\":2},\"yaxis\":{\"gridcolor\":\"white\",\"linecolor\":\"white\",\"ticks\":\"\",\"title\":{\"standoff\":15},\"zerolinecolor\":\"white\",\"automargin\":true,\"zerolinewidth\":2},\"scene\":{\"xaxis\":{\"backgroundcolor\":\"#E5ECF6\",\"gridcolor\":\"white\",\"linecolor\":\"white\",\"showbackground\":true,\"ticks\":\"\",\"zerolinecolor\":\"white\",\"gridwidth\":2},\"yaxis\":{\"backgroundcolor\":\"#E5ECF6\",\"gridcolor\":\"white\",\"linecolor\":\"white\",\"showbackground\":true,\"ticks\":\"\",\"zerolinecolor\":\"white\",\"gridwidth\":2},\"zaxis\":{\"backgroundcolor\":\"#E5ECF6\",\"gridcolor\":\"white\",\"linecolor\":\"white\",\"showbackground\":true,\"ticks\":\"\",\"zerolinecolor\":\"white\",\"gridwidth\":2}},\"shapedefaults\":{\"line\":{\"color\":\"#2a3f5f\"}},\"annotationdefaults\":{\"arrowcolor\":\"#2a3f5f\",\"arrowhead\":0,\"arrowwidth\":1},\"geo\":{\"bgcolor\":\"white\",\"landcolor\":\"#E5ECF6\",\"subunitcolor\":\"white\",\"showland\":true,\"showlakes\":true,\"lakecolor\":\"white\"},\"title\":{\"x\":0.05},\"mapbox\":{\"style\":\"light\"}}},\"xaxis\":{\"anchor\":\"y\",\"domain\":[0.0,1.0],\"title\":{\"text\":\"County\"}},\"yaxis\":{\"anchor\":\"x\",\"domain\":[0.0,1.0],\"title\":{\"text\":\"Count\"}},\"legend\":{\"tracegroupgap\":0},\"title\":{\"text\":\"Top 10 Counties by Count\"},\"barmode\":\"relative\"}}']}\n",
      "\n",
      "\n",
      "---human_input1---\n"
     ]
    }
   ],
   "source": [
    "user_text = \"Show me the summary of the given dataset?\"\n",
    "for event in graph.stream(Command(resume=user_text), thread, stream_mode=\"values\"):\n",
    "        # print(event)\n",
    "        print(\"\\n\")"
   ]
  },
  {
   "cell_type": "code",
   "execution_count": null,
   "id": "01f2ac75-288f-4957-9cfe-47256dc2d314",
   "metadata": {},
   "outputs": [],
   "source": [
    "AIMessage(content=json.dumps({'test':'value'}))"
   ]
  },
  {
   "cell_type": "code",
   "execution_count": 47,
   "id": "8b610211-eccf-4929-8035-57640992968f",
   "metadata": {},
   "outputs": [],
   "source": [
    "fin_results = graph.get_state(thread).values"
   ]
  },
  {
   "cell_type": "code",
   "execution_count": 41,
   "id": "e9b9cf58-b6cb-48e2-a938-92849b0544cb",
   "metadata": {},
   "outputs": [
    {
     "data": {
      "text/plain": [
       "dict_keys(['text_answer', 'tables', 'visualization'])"
      ]
     },
     "execution_count": 41,
     "metadata": {},
     "output_type": "execute_result"
    }
   ],
   "source": [
    "fin_results['final_answer'].keys()"
   ]
  },
  {
   "cell_type": "code",
   "execution_count": 49,
   "id": "48da1b1a-ecb7-4a10-b880-a800ee903531",
   "metadata": {},
   "outputs": [
    {
     "data": {
      "text/plain": [
       "['{\"data\":[{\"hovertemplate\":\"x=%{x}\\\\u003cbr\\\\u003ey=%{y}\\\\u003cextra\\\\u003e\\\\u003c\\\\u002fextra\\\\u003e\",\"legendgroup\":\"\",\"marker\":{\"color\":\"#636efa\",\"pattern\":{\"shape\":\"\"}},\"name\":\"\",\"orientation\":\"v\",\"showlegend\":false,\"textposition\":\"auto\",\"x\":[\"King\",\"Snohomish\",\"Pierce\",\"Clark\",\"Thurston\",\"Kitsap\",\"Spokane\",\"Whatcom\",\"Benton\",\"Skagit\"],\"xaxis\":\"x\",\"y\":{\"dtype\":\"i4\",\"bdata\":\"RGoBAAlSAADWNQAAsCgAABwZAADQFgAA6hEAAJ0QAABjCAAAdgcAAA==\"},\"yaxis\":\"y\",\"type\":\"bar\"}],\"layout\":{\"template\":{\"data\":{\"histogram2dcontour\":[{\"type\":\"histogram2dcontour\",\"colorbar\":{\"outlinewidth\":0,\"ticks\":\"\"},\"colorscale\":[[0.0,\"#0d0887\"],[0.1111111111111111,\"#46039f\"],[0.2222222222222222,\"#7201a8\"],[0.3333333333333333,\"#9c179e\"],[0.4444444444444444,\"#bd3786\"],[0.5555555555555556,\"#d8576b\"],[0.6666666666666666,\"#ed7953\"],[0.7777777777777778,\"#fb9f3a\"],[0.8888888888888888,\"#fdca26\"],[1.0,\"#f0f921\"]]}],\"choropleth\":[{\"type\":\"choropleth\",\"colorbar\":{\"outlinewidth\":0,\"ticks\":\"\"}}],\"histogram2d\":[{\"type\":\"histogram2d\",\"colorbar\":{\"outlinewidth\":0,\"ticks\":\"\"},\"colorscale\":[[0.0,\"#0d0887\"],[0.1111111111111111,\"#46039f\"],[0.2222222222222222,\"#7201a8\"],[0.3333333333333333,\"#9c179e\"],[0.4444444444444444,\"#bd3786\"],[0.5555555555555556,\"#d8576b\"],[0.6666666666666666,\"#ed7953\"],[0.7777777777777778,\"#fb9f3a\"],[0.8888888888888888,\"#fdca26\"],[1.0,\"#f0f921\"]]}],\"heatmap\":[{\"type\":\"heatmap\",\"colorbar\":{\"outlinewidth\":0,\"ticks\":\"\"},\"colorscale\":[[0.0,\"#0d0887\"],[0.1111111111111111,\"#46039f\"],[0.2222222222222222,\"#7201a8\"],[0.3333333333333333,\"#9c179e\"],[0.4444444444444444,\"#bd3786\"],[0.5555555555555556,\"#d8576b\"],[0.6666666666666666,\"#ed7953\"],[0.7777777777777778,\"#fb9f3a\"],[0.8888888888888888,\"#fdca26\"],[1.0,\"#f0f921\"]]}],\"contourcarpet\":[{\"type\":\"contourcarpet\",\"colorbar\":{\"outlinewidth\":0,\"ticks\":\"\"}}],\"contour\":[{\"type\":\"contour\",\"colorbar\":{\"outlinewidth\":0,\"ticks\":\"\"},\"colorscale\":[[0.0,\"#0d0887\"],[0.1111111111111111,\"#46039f\"],[0.2222222222222222,\"#7201a8\"],[0.3333333333333333,\"#9c179e\"],[0.4444444444444444,\"#bd3786\"],[0.5555555555555556,\"#d8576b\"],[0.6666666666666666,\"#ed7953\"],[0.7777777777777778,\"#fb9f3a\"],[0.8888888888888888,\"#fdca26\"],[1.0,\"#f0f921\"]]}],\"surface\":[{\"type\":\"surface\",\"colorbar\":{\"outlinewidth\":0,\"ticks\":\"\"},\"colorscale\":[[0.0,\"#0d0887\"],[0.1111111111111111,\"#46039f\"],[0.2222222222222222,\"#7201a8\"],[0.3333333333333333,\"#9c179e\"],[0.4444444444444444,\"#bd3786\"],[0.5555555555555556,\"#d8576b\"],[0.6666666666666666,\"#ed7953\"],[0.7777777777777778,\"#fb9f3a\"],[0.8888888888888888,\"#fdca26\"],[1.0,\"#f0f921\"]]}],\"mesh3d\":[{\"type\":\"mesh3d\",\"colorbar\":{\"outlinewidth\":0,\"ticks\":\"\"}}],\"scatter\":[{\"fillpattern\":{\"fillmode\":\"overlay\",\"size\":10,\"solidity\":0.2},\"type\":\"scatter\"}],\"parcoords\":[{\"type\":\"parcoords\",\"line\":{\"colorbar\":{\"outlinewidth\":0,\"ticks\":\"\"}}}],\"scatterpolargl\":[{\"type\":\"scatterpolargl\",\"marker\":{\"colorbar\":{\"outlinewidth\":0,\"ticks\":\"\"}}}],\"bar\":[{\"error_x\":{\"color\":\"#2a3f5f\"},\"error_y\":{\"color\":\"#2a3f5f\"},\"marker\":{\"line\":{\"color\":\"#E5ECF6\",\"width\":0.5},\"pattern\":{\"fillmode\":\"overlay\",\"size\":10,\"solidity\":0.2}},\"type\":\"bar\"}],\"scattergeo\":[{\"type\":\"scattergeo\",\"marker\":{\"colorbar\":{\"outlinewidth\":0,\"ticks\":\"\"}}}],\"scatterpolar\":[{\"type\":\"scatterpolar\",\"marker\":{\"colorbar\":{\"outlinewidth\":0,\"ticks\":\"\"}}}],\"histogram\":[{\"marker\":{\"pattern\":{\"fillmode\":\"overlay\",\"size\":10,\"solidity\":0.2}},\"type\":\"histogram\"}],\"scattergl\":[{\"type\":\"scattergl\",\"marker\":{\"colorbar\":{\"outlinewidth\":0,\"ticks\":\"\"}}}],\"scatter3d\":[{\"type\":\"scatter3d\",\"line\":{\"colorbar\":{\"outlinewidth\":0,\"ticks\":\"\"}},\"marker\":{\"colorbar\":{\"outlinewidth\":0,\"ticks\":\"\"}}}],\"scattermap\":[{\"type\":\"scattermap\",\"marker\":{\"colorbar\":{\"outlinewidth\":0,\"ticks\":\"\"}}}],\"scattermapbox\":[{\"type\":\"scattermapbox\",\"marker\":{\"colorbar\":{\"outlinewidth\":0,\"ticks\":\"\"}}}],\"scatterternary\":[{\"type\":\"scatterternary\",\"marker\":{\"colorbar\":{\"outlinewidth\":0,\"ticks\":\"\"}}}],\"scattercarpet\":[{\"type\":\"scattercarpet\",\"marker\":{\"colorbar\":{\"outlinewidth\":0,\"ticks\":\"\"}}}],\"carpet\":[{\"aaxis\":{\"endlinecolor\":\"#2a3f5f\",\"gridcolor\":\"white\",\"linecolor\":\"white\",\"minorgridcolor\":\"white\",\"startlinecolor\":\"#2a3f5f\"},\"baxis\":{\"endlinecolor\":\"#2a3f5f\",\"gridcolor\":\"white\",\"linecolor\":\"white\",\"minorgridcolor\":\"white\",\"startlinecolor\":\"#2a3f5f\"},\"type\":\"carpet\"}],\"table\":[{\"cells\":{\"fill\":{\"color\":\"#EBF0F8\"},\"line\":{\"color\":\"white\"}},\"header\":{\"fill\":{\"color\":\"#C8D4E3\"},\"line\":{\"color\":\"white\"}},\"type\":\"table\"}],\"barpolar\":[{\"marker\":{\"line\":{\"color\":\"#E5ECF6\",\"width\":0.5},\"pattern\":{\"fillmode\":\"overlay\",\"size\":10,\"solidity\":0.2}},\"type\":\"barpolar\"}],\"pie\":[{\"automargin\":true,\"type\":\"pie\"}]},\"layout\":{\"autotypenumbers\":\"strict\",\"colorway\":[\"#636efa\",\"#EF553B\",\"#00cc96\",\"#ab63fa\",\"#FFA15A\",\"#19d3f3\",\"#FF6692\",\"#B6E880\",\"#FF97FF\",\"#FECB52\"],\"font\":{\"color\":\"#2a3f5f\"},\"hovermode\":\"closest\",\"hoverlabel\":{\"align\":\"left\"},\"paper_bgcolor\":\"white\",\"plot_bgcolor\":\"#E5ECF6\",\"polar\":{\"bgcolor\":\"#E5ECF6\",\"angularaxis\":{\"gridcolor\":\"white\",\"linecolor\":\"white\",\"ticks\":\"\"},\"radialaxis\":{\"gridcolor\":\"white\",\"linecolor\":\"white\",\"ticks\":\"\"}},\"ternary\":{\"bgcolor\":\"#E5ECF6\",\"aaxis\":{\"gridcolor\":\"white\",\"linecolor\":\"white\",\"ticks\":\"\"},\"baxis\":{\"gridcolor\":\"white\",\"linecolor\":\"white\",\"ticks\":\"\"},\"caxis\":{\"gridcolor\":\"white\",\"linecolor\":\"white\",\"ticks\":\"\"}},\"coloraxis\":{\"colorbar\":{\"outlinewidth\":0,\"ticks\":\"\"}},\"colorscale\":{\"sequential\":[[0.0,\"#0d0887\"],[0.1111111111111111,\"#46039f\"],[0.2222222222222222,\"#7201a8\"],[0.3333333333333333,\"#9c179e\"],[0.4444444444444444,\"#bd3786\"],[0.5555555555555556,\"#d8576b\"],[0.6666666666666666,\"#ed7953\"],[0.7777777777777778,\"#fb9f3a\"],[0.8888888888888888,\"#fdca26\"],[1.0,\"#f0f921\"]],\"sequentialminus\":[[0.0,\"#0d0887\"],[0.1111111111111111,\"#46039f\"],[0.2222222222222222,\"#7201a8\"],[0.3333333333333333,\"#9c179e\"],[0.4444444444444444,\"#bd3786\"],[0.5555555555555556,\"#d8576b\"],[0.6666666666666666,\"#ed7953\"],[0.7777777777777778,\"#fb9f3a\"],[0.8888888888888888,\"#fdca26\"],[1.0,\"#f0f921\"]],\"diverging\":[[0,\"#8e0152\"],[0.1,\"#c51b7d\"],[0.2,\"#de77ae\"],[0.3,\"#f1b6da\"],[0.4,\"#fde0ef\"],[0.5,\"#f7f7f7\"],[0.6,\"#e6f5d0\"],[0.7,\"#b8e186\"],[0.8,\"#7fbc41\"],[0.9,\"#4d9221\"],[1,\"#276419\"]]},\"xaxis\":{\"gridcolor\":\"white\",\"linecolor\":\"white\",\"ticks\":\"\",\"title\":{\"standoff\":15},\"zerolinecolor\":\"white\",\"automargin\":true,\"zerolinewidth\":2},\"yaxis\":{\"gridcolor\":\"white\",\"linecolor\":\"white\",\"ticks\":\"\",\"title\":{\"standoff\":15},\"zerolinecolor\":\"white\",\"automargin\":true,\"zerolinewidth\":2},\"scene\":{\"xaxis\":{\"backgroundcolor\":\"#E5ECF6\",\"gridcolor\":\"white\",\"linecolor\":\"white\",\"showbackground\":true,\"ticks\":\"\",\"zerolinecolor\":\"white\",\"gridwidth\":2},\"yaxis\":{\"backgroundcolor\":\"#E5ECF6\",\"gridcolor\":\"white\",\"linecolor\":\"white\",\"showbackground\":true,\"ticks\":\"\",\"zerolinecolor\":\"white\",\"gridwidth\":2},\"zaxis\":{\"backgroundcolor\":\"#E5ECF6\",\"gridcolor\":\"white\",\"linecolor\":\"white\",\"showbackground\":true,\"ticks\":\"\",\"zerolinecolor\":\"white\",\"gridwidth\":2}},\"shapedefaults\":{\"line\":{\"color\":\"#2a3f5f\"}},\"annotationdefaults\":{\"arrowcolor\":\"#2a3f5f\",\"arrowhead\":0,\"arrowwidth\":1},\"geo\":{\"bgcolor\":\"white\",\"landcolor\":\"#E5ECF6\",\"subunitcolor\":\"white\",\"showland\":true,\"showlakes\":true,\"lakecolor\":\"white\"},\"title\":{\"x\":0.05},\"mapbox\":{\"style\":\"light\"}}},\"xaxis\":{\"anchor\":\"y\",\"domain\":[0.0,1.0],\"title\":{\"text\":\"County\"}},\"yaxis\":{\"anchor\":\"x\",\"domain\":[0.0,1.0],\"title\":{\"text\":\"Count\"}},\"legend\":{\"tracegroupgap\":0},\"title\":{\"text\":\"Top 10 Counties by Count\"},\"barmode\":\"relative\"}}']"
      ]
     },
     "execution_count": 49,
     "metadata": {},
     "output_type": "execute_result"
    }
   ],
   "source": [
    "fin_results['final_answer']['visualization']"
   ]
  },
  {
   "cell_type": "code",
   "execution_count": 48,
   "id": "a94caa20-b85a-4ed7-b1ad-f8850f59e519",
   "metadata": {},
   "outputs": [
    {
     "data": {
      "text/plain": [
       "[HumanMessage(content='Show me the summary of the given dataset?', additional_kwargs={}, response_metadata={}, id='68a51ced-0651-4b0b-8b36-ff1662aa6db6'),\n",
       " AIMessage(content='{\"tables\": [{\"type\": \"dataframe\", \"description\": \"Summary of the dataset\"}, {\"type\": \"series\", \"description\": \"Count of unique values in each column\"}, {\"type\": \"series\", \"description\": \"Data types of each column\"}, {\"type\": \"series\", \"description\": \"Top 10 counties by count\"}]}', additional_kwargs={}, response_metadata={}, id='82d0e23d-5f50-429f-a850-02fb36abef90'),\n",
       " HumanMessage(content='How many counties are there?', additional_kwargs={}, response_metadata={}, id='17bf3a5a-925c-4140-bdfc-f5687752bed2'),\n",
       " AIMessage(content='{\"text_answer\": \"There are 196 counties.\", \"tables\": []}', additional_kwargs={}, response_metadata={}, id='d78ba757-ee79-4fdf-862c-52618658e786')]"
      ]
     },
     "execution_count": 48,
     "metadata": {},
     "output_type": "execute_result"
    }
   ],
   "source": [
    "fin_results['messages']\n",
    "        "
   ]
  },
  {
   "cell_type": "code",
   "execution_count": null,
   "id": "ed9f00fe-2ec8-493b-9edf-b24cb84f7bbb",
   "metadata": {},
   "outputs": [],
   "source": [
    "message_txts = {}\n",
    "for k,v in fin_results['final_answer'].items():\n",
    "    if isinstance(v,list):\n",
    "        print(k)\n",
    "        new_list=[]\n",
    "        for element in v:\n",
    "            if 'value' in element:\n",
    "                del element['value']\n",
    "            new_list.append(element)\n",
    "        message_txts[k]=new_list\n",
    "    elif isinstance(v,list):\n",
    "        print(k)\n",
    "    elif v is not None:\n",
    "        print(k)\n",
    "\n",
    "print(message_txts)\n",
    "    \n",
    "        \n",
    "            "
   ]
  },
  {
   "cell_type": "code",
   "execution_count": null,
   "id": "af936693-5686-4952-a021-d96852cc0415",
   "metadata": {},
   "outputs": [],
   "source": [
    "d={'desc':'descritpion','value':'text'}\n",
    "if 'value' in d:\n",
    "    del d['value']\n",
    "    print(d)"
   ]
  },
  {
   "cell_type": "code",
   "execution_count": null,
   "id": "c7e7a593-4c99-438b-b1cb-c469d312f096",
   "metadata": {},
   "outputs": [],
   "source": [
    "fin_results['final_answer']['visualization']"
   ]
  },
  {
   "cell_type": "code",
   "execution_count": null,
   "id": "3b28acd7-ca3c-42be-bcd3-1d8f426cc300",
   "metadata": {},
   "outputs": [],
   "source": [
    "fin_results['messages']"
   ]
  },
  {
   "cell_type": "code",
   "execution_count": 45,
   "id": "3ab2e5a4-f4e5-48b2-a268-b89a50851de4",
   "metadata": {},
   "outputs": [
    {
     "name": "stdout",
     "output_type": "stream",
     "text": [
      "\n",
      "\n",
      "---human_input1---\n",
      "\n",
      "\n",
      "---generate_code---\n",
      "message: How many counties are there?\n",
      "before llm generate You are a professional data analyst proficient in Python programming.\n",
      "Based on the following dataset summary:\n",
      "Columns: ['VIN (1-10)', 'County', 'City', 'State', 'Postal Code', 'Model Year', 'Make', 'Model', 'Electric Vehicle Type', 'Clean Alternative Fuel Vehicle (CAFV) Eligibility', 'Electric Range', 'Base MSRP', 'Legislative District', 'DOL Vehicle ID', 'Vehicle Location', 'Electric Utility', '2020 Census Tract']\n",
      "Data Types: {'VIN (1-10)': dtype('O'), 'County': dtype('O'), 'City': dtype('O'), 'State': dtype('O'), 'Postal Code': dtype('float64'), 'Model Year': dtype('int64'), 'Make': dtype('O'), 'Model': dtype('O'), 'Electric Vehicle Type': dtype('O'), 'Clean Alternative Fuel Vehicle (CAFV) Eligibility': dtype('O'), 'Electric Range': dtype('int64'), 'Base MSRP': dtype('int64'), 'Legislative District': dtype('float64'), 'DOL Vehicle ID': dtype('int64'), 'Vehicle Location': dtype('O'), 'Electric Utility': dtype('O'), '2020 Census Tract': dtype('float64')}\n",
      "\n",
      "Provide clean python code using pandas and plotly (only the code, nothing else) that when executed will:\n",
      "The code should contain a visualization that is well labelled.\n",
      "Assume the dataset has been read into a dataframe called df.\n",
      "If the query involves generating a chart (e.g., bar plot), please ensure the chart displays no more than 10 categories (top or bottom).\n",
      "If the user specifically requests to show all categories, include that in the code. If no specific instruction is provided, limit the chart to the top or bottom 10 categories based on the count or value\n",
      "Make sure all the important results are saved as a dictionary with name 'final_results'. \n",
      "For plotly fig object, include type as 'figure'.Each result item should be dictionary with keys value, type and description about that item. Example :{'type':'str','value':'There are 10 counties', 'description':'Count of counties'}Make sure the generated code is surrounded with try and catch . In exception handler print the error. Answer the user's question: 'How many counties are there?'.\n",
      "\n",
      "after llm generate content='```python\\ntry:\\n    import pandas as pd\\n    import plotly.express as px\\n\\n    # Get the count of counties\\n    county_count = df[\\'County\\'].nunique()\\n\\n    # Create a bar plot of top 10 counties by count\\n    county_counts = df[\\'County\\'].value_counts().head(10)\\n    fig = px.bar(x=county_counts.index, y=county_counts.values, title=\\'Top 10 Counties by Count\\')\\n    fig.update_layout(xaxis_title=\\'County\\', yaxis_title=\\'Count\\')\\n\\n    # Save the results as a dictionary\\n    final_results = {\\n        \\'county_count\\': {\\'type\\': \\'int\\', \\'value\\': county_count, \\'description\\': \\'Count of counties\\'},\\n        \\'top_counties\\': {\\'type\\': \\'figure\\', \\'value\\': fig, \\'description\\': \\'Bar plot of top 10 counties by count\\'}\\n    }\\n\\n    print(f\"{\\'type\\':\\'str\\',\\'value\\':\\'There are {county_count} counties\\', \\'description\\':\\'Count of counties\\'}\")\\n\\nexcept Exception as e:\\n    print(f\"An error occurred: {e}\")\\n```' additional_kwargs={} response_metadata={'token_usage': {'completion_tokens': 227, 'prompt_tokens': 519, 'total_tokens': 746, 'completion_time': 0.134801696, 'prompt_time': 0.052958792, 'queue_time': 0.049575517000000006, 'total_time': 0.187760488}, 'model_name': 'llama-3.3-70b-specdec', 'system_fingerprint': 'fp_985f1e4133', 'finish_reason': 'stop', 'logprobs': None} id='run-d2944406-01ba-4c5e-a107-e1632ebf6fc5-0' usage_metadata={'input_tokens': 519, 'output_tokens': 227, 'total_tokens': 746}\n",
      "\n",
      "\n",
      "-----Executing code----\n",
      "Started executing generated code\n",
      "111:: ###python\n",
      "try:\n",
      "    import pandas as pd\n",
      "    import plotly.express as px\n",
      "\n",
      "    # Get the count of counties\n",
      "    county_count = df['County'].nunique()\n",
      "\n",
      "    # Create a bar plot of top 10 counties by count\n",
      "    county_counts = df['County'].value_counts().head(10)\n",
      "    fig = px.bar(x=county_counts.index, y=county_counts.values, title='Top 10 Counties by Count')\n",
      "    fig.update_layout(xaxis_title='County', yaxis_title='Count')\n",
      "\n",
      "    # Save the results as a dictionary\n",
      "    final_results = {\n",
      "        'county_count': {'type': 'int', 'value': county_count, 'description': 'Count of counties'},\n",
      "        'top_counties': {'type': 'figure', 'value': fig, 'description': 'Bar plot of top 10 counties by count'}\n",
      "    }\n",
      "\n",
      "    print(f\"{'type':'str','value':'There are {county_count} counties', 'description':'Count of counties'}\")\n",
      "\n",
      "except Exception as e:\n",
      "    print(f\"An error occurred: {e}\")\n",
      "###\n",
      "222\n",
      "333\n",
      "444\n",
      "An error occurred: Invalid format specifier ''str','value':'There are 196 counties', 'description':'Count of counties'' for object of type 'str'\n",
      "555\n",
      "finally\n",
      "befre return\n",
      "Ended executing generated code\n",
      "K:: county_count int\n",
      "K:: top_counties figure\n",
      "----prepare answer-----\n",
      "K:: int\n",
      "K:: figure\n",
      "final_answer############ {'text_answer': 'There are 196 counties.', 'tables': [], 'visualization': ['{\"data\":[{\"hovertemplate\":\"x=%{x}\\\\u003cbr\\\\u003ey=%{y}\\\\u003cextra\\\\u003e\\\\u003c\\\\u002fextra\\\\u003e\",\"legendgroup\":\"\",\"marker\":{\"color\":\"#636efa\",\"pattern\":{\"shape\":\"\"}},\"name\":\"\",\"orientation\":\"v\",\"showlegend\":false,\"textposition\":\"auto\",\"x\":[\"King\",\"Snohomish\",\"Pierce\",\"Clark\",\"Thurston\",\"Kitsap\",\"Spokane\",\"Whatcom\",\"Benton\",\"Skagit\"],\"xaxis\":\"x\",\"y\":{\"dtype\":\"i4\",\"bdata\":\"RGoBAAlSAADWNQAAsCgAABwZAADQFgAA6hEAAJ0QAABjCAAAdgcAAA==\"},\"yaxis\":\"y\",\"type\":\"bar\"}],\"layout\":{\"template\":{\"data\":{\"histogram2dcontour\":[{\"type\":\"histogram2dcontour\",\"colorbar\":{\"outlinewidth\":0,\"ticks\":\"\"},\"colorscale\":[[0.0,\"#0d0887\"],[0.1111111111111111,\"#46039f\"],[0.2222222222222222,\"#7201a8\"],[0.3333333333333333,\"#9c179e\"],[0.4444444444444444,\"#bd3786\"],[0.5555555555555556,\"#d8576b\"],[0.6666666666666666,\"#ed7953\"],[0.7777777777777778,\"#fb9f3a\"],[0.8888888888888888,\"#fdca26\"],[1.0,\"#f0f921\"]]}],\"choropleth\":[{\"type\":\"choropleth\",\"colorbar\":{\"outlinewidth\":0,\"ticks\":\"\"}}],\"histogram2d\":[{\"type\":\"histogram2d\",\"colorbar\":{\"outlinewidth\":0,\"ticks\":\"\"},\"colorscale\":[[0.0,\"#0d0887\"],[0.1111111111111111,\"#46039f\"],[0.2222222222222222,\"#7201a8\"],[0.3333333333333333,\"#9c179e\"],[0.4444444444444444,\"#bd3786\"],[0.5555555555555556,\"#d8576b\"],[0.6666666666666666,\"#ed7953\"],[0.7777777777777778,\"#fb9f3a\"],[0.8888888888888888,\"#fdca26\"],[1.0,\"#f0f921\"]]}],\"heatmap\":[{\"type\":\"heatmap\",\"colorbar\":{\"outlinewidth\":0,\"ticks\":\"\"},\"colorscale\":[[0.0,\"#0d0887\"],[0.1111111111111111,\"#46039f\"],[0.2222222222222222,\"#7201a8\"],[0.3333333333333333,\"#9c179e\"],[0.4444444444444444,\"#bd3786\"],[0.5555555555555556,\"#d8576b\"],[0.6666666666666666,\"#ed7953\"],[0.7777777777777778,\"#fb9f3a\"],[0.8888888888888888,\"#fdca26\"],[1.0,\"#f0f921\"]]}],\"contourcarpet\":[{\"type\":\"contourcarpet\",\"colorbar\":{\"outlinewidth\":0,\"ticks\":\"\"}}],\"contour\":[{\"type\":\"contour\",\"colorbar\":{\"outlinewidth\":0,\"ticks\":\"\"},\"colorscale\":[[0.0,\"#0d0887\"],[0.1111111111111111,\"#46039f\"],[0.2222222222222222,\"#7201a8\"],[0.3333333333333333,\"#9c179e\"],[0.4444444444444444,\"#bd3786\"],[0.5555555555555556,\"#d8576b\"],[0.6666666666666666,\"#ed7953\"],[0.7777777777777778,\"#fb9f3a\"],[0.8888888888888888,\"#fdca26\"],[1.0,\"#f0f921\"]]}],\"surface\":[{\"type\":\"surface\",\"colorbar\":{\"outlinewidth\":0,\"ticks\":\"\"},\"colorscale\":[[0.0,\"#0d0887\"],[0.1111111111111111,\"#46039f\"],[0.2222222222222222,\"#7201a8\"],[0.3333333333333333,\"#9c179e\"],[0.4444444444444444,\"#bd3786\"],[0.5555555555555556,\"#d8576b\"],[0.6666666666666666,\"#ed7953\"],[0.7777777777777778,\"#fb9f3a\"],[0.8888888888888888,\"#fdca26\"],[1.0,\"#f0f921\"]]}],\"mesh3d\":[{\"type\":\"mesh3d\",\"colorbar\":{\"outlinewidth\":0,\"ticks\":\"\"}}],\"scatter\":[{\"fillpattern\":{\"fillmode\":\"overlay\",\"size\":10,\"solidity\":0.2},\"type\":\"scatter\"}],\"parcoords\":[{\"type\":\"parcoords\",\"line\":{\"colorbar\":{\"outlinewidth\":0,\"ticks\":\"\"}}}],\"scatterpolargl\":[{\"type\":\"scatterpolargl\",\"marker\":{\"colorbar\":{\"outlinewidth\":0,\"ticks\":\"\"}}}],\"bar\":[{\"error_x\":{\"color\":\"#2a3f5f\"},\"error_y\":{\"color\":\"#2a3f5f\"},\"marker\":{\"line\":{\"color\":\"#E5ECF6\",\"width\":0.5},\"pattern\":{\"fillmode\":\"overlay\",\"size\":10,\"solidity\":0.2}},\"type\":\"bar\"}],\"scattergeo\":[{\"type\":\"scattergeo\",\"marker\":{\"colorbar\":{\"outlinewidth\":0,\"ticks\":\"\"}}}],\"scatterpolar\":[{\"type\":\"scatterpolar\",\"marker\":{\"colorbar\":{\"outlinewidth\":0,\"ticks\":\"\"}}}],\"histogram\":[{\"marker\":{\"pattern\":{\"fillmode\":\"overlay\",\"size\":10,\"solidity\":0.2}},\"type\":\"histogram\"}],\"scattergl\":[{\"type\":\"scattergl\",\"marker\":{\"colorbar\":{\"outlinewidth\":0,\"ticks\":\"\"}}}],\"scatter3d\":[{\"type\":\"scatter3d\",\"line\":{\"colorbar\":{\"outlinewidth\":0,\"ticks\":\"\"}},\"marker\":{\"colorbar\":{\"outlinewidth\":0,\"ticks\":\"\"}}}],\"scattermap\":[{\"type\":\"scattermap\",\"marker\":{\"colorbar\":{\"outlinewidth\":0,\"ticks\":\"\"}}}],\"scattermapbox\":[{\"type\":\"scattermapbox\",\"marker\":{\"colorbar\":{\"outlinewidth\":0,\"ticks\":\"\"}}}],\"scatterternary\":[{\"type\":\"scatterternary\",\"marker\":{\"colorbar\":{\"outlinewidth\":0,\"ticks\":\"\"}}}],\"scattercarpet\":[{\"type\":\"scattercarpet\",\"marker\":{\"colorbar\":{\"outlinewidth\":0,\"ticks\":\"\"}}}],\"carpet\":[{\"aaxis\":{\"endlinecolor\":\"#2a3f5f\",\"gridcolor\":\"white\",\"linecolor\":\"white\",\"minorgridcolor\":\"white\",\"startlinecolor\":\"#2a3f5f\"},\"baxis\":{\"endlinecolor\":\"#2a3f5f\",\"gridcolor\":\"white\",\"linecolor\":\"white\",\"minorgridcolor\":\"white\",\"startlinecolor\":\"#2a3f5f\"},\"type\":\"carpet\"}],\"table\":[{\"cells\":{\"fill\":{\"color\":\"#EBF0F8\"},\"line\":{\"color\":\"white\"}},\"header\":{\"fill\":{\"color\":\"#C8D4E3\"},\"line\":{\"color\":\"white\"}},\"type\":\"table\"}],\"barpolar\":[{\"marker\":{\"line\":{\"color\":\"#E5ECF6\",\"width\":0.5},\"pattern\":{\"fillmode\":\"overlay\",\"size\":10,\"solidity\":0.2}},\"type\":\"barpolar\"}],\"pie\":[{\"automargin\":true,\"type\":\"pie\"}]},\"layout\":{\"autotypenumbers\":\"strict\",\"colorway\":[\"#636efa\",\"#EF553B\",\"#00cc96\",\"#ab63fa\",\"#FFA15A\",\"#19d3f3\",\"#FF6692\",\"#B6E880\",\"#FF97FF\",\"#FECB52\"],\"font\":{\"color\":\"#2a3f5f\"},\"hovermode\":\"closest\",\"hoverlabel\":{\"align\":\"left\"},\"paper_bgcolor\":\"white\",\"plot_bgcolor\":\"#E5ECF6\",\"polar\":{\"bgcolor\":\"#E5ECF6\",\"angularaxis\":{\"gridcolor\":\"white\",\"linecolor\":\"white\",\"ticks\":\"\"},\"radialaxis\":{\"gridcolor\":\"white\",\"linecolor\":\"white\",\"ticks\":\"\"}},\"ternary\":{\"bgcolor\":\"#E5ECF6\",\"aaxis\":{\"gridcolor\":\"white\",\"linecolor\":\"white\",\"ticks\":\"\"},\"baxis\":{\"gridcolor\":\"white\",\"linecolor\":\"white\",\"ticks\":\"\"},\"caxis\":{\"gridcolor\":\"white\",\"linecolor\":\"white\",\"ticks\":\"\"}},\"coloraxis\":{\"colorbar\":{\"outlinewidth\":0,\"ticks\":\"\"}},\"colorscale\":{\"sequential\":[[0.0,\"#0d0887\"],[0.1111111111111111,\"#46039f\"],[0.2222222222222222,\"#7201a8\"],[0.3333333333333333,\"#9c179e\"],[0.4444444444444444,\"#bd3786\"],[0.5555555555555556,\"#d8576b\"],[0.6666666666666666,\"#ed7953\"],[0.7777777777777778,\"#fb9f3a\"],[0.8888888888888888,\"#fdca26\"],[1.0,\"#f0f921\"]],\"sequentialminus\":[[0.0,\"#0d0887\"],[0.1111111111111111,\"#46039f\"],[0.2222222222222222,\"#7201a8\"],[0.3333333333333333,\"#9c179e\"],[0.4444444444444444,\"#bd3786\"],[0.5555555555555556,\"#d8576b\"],[0.6666666666666666,\"#ed7953\"],[0.7777777777777778,\"#fb9f3a\"],[0.8888888888888888,\"#fdca26\"],[1.0,\"#f0f921\"]],\"diverging\":[[0,\"#8e0152\"],[0.1,\"#c51b7d\"],[0.2,\"#de77ae\"],[0.3,\"#f1b6da\"],[0.4,\"#fde0ef\"],[0.5,\"#f7f7f7\"],[0.6,\"#e6f5d0\"],[0.7,\"#b8e186\"],[0.8,\"#7fbc41\"],[0.9,\"#4d9221\"],[1,\"#276419\"]]},\"xaxis\":{\"gridcolor\":\"white\",\"linecolor\":\"white\",\"ticks\":\"\",\"title\":{\"standoff\":15},\"zerolinecolor\":\"white\",\"automargin\":true,\"zerolinewidth\":2},\"yaxis\":{\"gridcolor\":\"white\",\"linecolor\":\"white\",\"ticks\":\"\",\"title\":{\"standoff\":15},\"zerolinecolor\":\"white\",\"automargin\":true,\"zerolinewidth\":2},\"scene\":{\"xaxis\":{\"backgroundcolor\":\"#E5ECF6\",\"gridcolor\":\"white\",\"linecolor\":\"white\",\"showbackground\":true,\"ticks\":\"\",\"zerolinecolor\":\"white\",\"gridwidth\":2},\"yaxis\":{\"backgroundcolor\":\"#E5ECF6\",\"gridcolor\":\"white\",\"linecolor\":\"white\",\"showbackground\":true,\"ticks\":\"\",\"zerolinecolor\":\"white\",\"gridwidth\":2},\"zaxis\":{\"backgroundcolor\":\"#E5ECF6\",\"gridcolor\":\"white\",\"linecolor\":\"white\",\"showbackground\":true,\"ticks\":\"\",\"zerolinecolor\":\"white\",\"gridwidth\":2}},\"shapedefaults\":{\"line\":{\"color\":\"#2a3f5f\"}},\"annotationdefaults\":{\"arrowcolor\":\"#2a3f5f\",\"arrowhead\":0,\"arrowwidth\":1},\"geo\":{\"bgcolor\":\"white\",\"landcolor\":\"#E5ECF6\",\"subunitcolor\":\"white\",\"showland\":true,\"showlakes\":true,\"lakecolor\":\"white\"},\"title\":{\"x\":0.05},\"mapbox\":{\"style\":\"light\"}}},\"xaxis\":{\"anchor\":\"y\",\"domain\":[0.0,1.0],\"title\":{\"text\":\"County\"}},\"yaxis\":{\"anchor\":\"x\",\"domain\":[0.0,1.0],\"title\":{\"text\":\"Count\"}},\"legend\":{\"tracegroupgap\":0},\"title\":{\"text\":\"Top 10 Counties by Count\"},\"barmode\":\"relative\"}}']}\n",
      "\n",
      "\n",
      "---human_input1---\n"
     ]
    }
   ],
   "source": [
    "user_text = \"How many counties are there?\"\n",
    "for event in graph.stream(Command(resume=user_text), thread, stream_mode=\"values\"):\n",
    "        # print(event)\n",
    "        print(\"\\n\")\n"
   ]
  },
  {
   "cell_type": "code",
   "execution_count": null,
   "id": "07e231b0-5021-4a42-b0e2-6e73b11170a8",
   "metadata": {},
   "outputs": [],
   "source": [
    "for k, v in event.items():\n",
    "    print(k)"
   ]
  },
  {
   "cell_type": "code",
   "execution_count": null,
   "id": "406182c0-7049-4a78-beb3-f760d7318ce9",
   "metadata": {},
   "outputs": [],
   "source": [
    "fin_results.keys()"
   ]
  },
  {
   "cell_type": "code",
   "execution_count": null,
   "id": "5d551c3b-46b7-4f90-b238-b0af3d13ead9",
   "metadata": {},
   "outputs": [],
   "source": [
    "'X'.lower()"
   ]
  },
  {
   "cell_type": "code",
   "execution_count": null,
   "id": "25ba7384-aee3-4606-806f-af56e5ce503f",
   "metadata": {},
   "outputs": [],
   "source": [
    "d "
   ]
  },
  {
   "cell_type": "code",
   "execution_count": null,
   "id": "4adc27fd-b7ae-4adb-bdb4-b7989948f549",
   "metadata": {},
   "outputs": [],
   "source": [
    "plots = []\n",
    "text_outputs= []\n",
    "for k, v in fin_results.items():\n",
    "    if \"type\" in v and v['type'].startswith('fig'):\n",
    "        plots.append(v['value'])\n",
    "    else:\n",
    "        text_outputs.append({k:v})\n",
    "    # print(k,v)\n",
    "    # break"
   ]
  },
  {
   "cell_type": "code",
   "execution_count": null,
   "id": "8f2cf22a-1ecd-4714-bf4c-6b3daf3d6833",
   "metadata": {},
   "outputs": [],
   "source": [
    "text_outputs"
   ]
  },
  {
   "cell_type": "code",
   "execution_count": null,
   "id": "aefb24c1-1ada-4748-9f46-7edaa21ab3ea",
   "metadata": {},
   "outputs": [],
   "source": [
    "user_query = graph.get_state(thread).values['user_query']\n",
    "print(user_query)"
   ]
  },
  {
   "cell_type": "code",
   "execution_count": null,
   "id": "bf991e3d-cfc3-419d-a4c2-d7e8cad2b7f1",
   "metadata": {},
   "outputs": [],
   "source": [
    "answer_prompt = f\"\"\"Generate the brief answer for the given question using the related JSON data\n",
    "Query: {user_query}\n",
    "JSON: {text_outputs}\n",
    "Answer:\n",
    "\"\"\"\n",
    "print(answer_prompt)"
   ]
  },
  {
   "cell_type": "code",
   "execution_count": null,
   "id": "d4cc30f4-4df8-4bba-b1d2-f4cbdd6331a0",
   "metadata": {},
   "outputs": [],
   "source": [
    "resp = llm.invoke(answer_prompt)"
   ]
  },
  {
   "cell_type": "code",
   "execution_count": null,
   "id": "103ff45d-f839-427f-9dbe-d657a2d3f661",
   "metadata": {},
   "outputs": [],
   "source": [
    "resp.content"
   ]
  },
  {
   "cell_type": "code",
   "execution_count": null,
   "id": "d23026e6-a21a-4d88-a682-e793007b5696",
   "metadata": {},
   "outputs": [],
   "source": [
    "with open(\"plot_data.json\", \"w\") as f:\n",
    "    f.write(fin_results['fig']['value'])\n"
   ]
  },
  {
   "cell_type": "code",
   "execution_count": null,
   "id": "27c1655f-be1d-4ea5-8773-d5d374bc96e4",
   "metadata": {},
   "outputs": [],
   "source": [
    "x = {\"a\":10,\"b\":20}\n",
    "print(x)"
   ]
  },
  {
   "cell_type": "code",
   "execution_count": null,
   "id": "f6c54f0e-f717-44c2-b8dc-7b170e0f2de2",
   "metadata": {},
   "outputs": [],
   "source": [
    "type(x)"
   ]
  },
  {
   "cell_type": "code",
   "execution_count": null,
   "id": "bcfcb634-629c-416c-8a6f-ad35b9372bb9",
   "metadata": {},
   "outputs": [],
   "source": [
    "df_json = graph.get_state(thread).values['input_data']\n",
    "input_df = json_df(df_json)\n",
    "print(input_df.shape)"
   ]
  },
  {
   "cell_type": "code",
   "execution_count": null,
   "id": "f9ba9c9d-9f91-4e28-98e5-1e568140cc14",
   "metadata": {},
   "outputs": [],
   "source": [
    "!pip show plotly"
   ]
  },
  {
   "cell_type": "code",
   "execution_count": null,
   "id": "b95d3f2a-16ca-48ba-9edf-93f75ab67f18",
   "metadata": {},
   "outputs": [],
   "source": [
    "code1 = graph.get_state(thread).values['code'].replace(\"```\",\"\")\n",
    "print(code1)"
   ]
  },
  {
   "cell_type": "code",
   "execution_count": null,
   "id": "38c17205-70e2-4c2b-94f5-aa650b5940f8",
   "metadata": {},
   "outputs": [],
   "source": [
    "input_df.head()"
   ]
  },
  {
   "cell_type": "code",
   "execution_count": null,
   "id": "59c22ab5-9838-4bf1-a31c-2f0d42b12a6b",
   "metadata": {},
   "outputs": [],
   "source": [
    "code = \"\"\"```python\n",
    "import pandas as pd\n",
    "import plotly.express as px\n",
    "\n",
    "# Get the number of unique counties\n",
    "num_counties = df['County'].nunique()\n",
    "print(f\"There are {num_counties} counties.\")\n",
    "\n",
    "# Get the top 10 counties by count\n",
    "top_10_counties = df['County'].value_counts().head(10)\n",
    "\n",
    "# Create a bar plot\n",
    "fig = px.bar(x=top_10_counties.index, y=top_10_counties.values, title=\"Top 10 Counties by Count\", labels={'x': 'County', 'y': 'Count'})\n",
    "fig.show()\n",
    "```\"\"\""
   ]
  },
  {
   "cell_type": "code",
   "execution_count": null,
   "id": "0ad39330-b065-41bb-8893-73dc46cb1da2",
   "metadata": {},
   "outputs": [],
   "source": [
    "print(code)"
   ]
  },
  {
   "cell_type": "code",
   "execution_count": null,
   "id": "10d44ff4-c07d-4967-8938-ca7dd2d69379",
   "metadata": {},
   "outputs": [],
   "source": [
    "clean_code = code.strip('```').strip()  \n",
    "print(clean_code)"
   ]
  },
  {
   "cell_type": "code",
   "execution_count": null,
   "id": "fe20e2e9-99bf-488c-a753-dad15aada6b1",
   "metadata": {},
   "outputs": [],
   "source": [
    "import io\n",
    "import sys"
   ]
  },
  {
   "cell_type": "code",
   "execution_count": null,
   "id": "01a823a6-1e35-4177-a589-83d0f3bfacc0",
   "metadata": {},
   "outputs": [],
   "source": [
    "output_buffer = io.StringIO()\n",
    "sys.stdout = output_buffer "
   ]
  },
  {
   "cell_type": "code",
   "execution_count": null,
   "id": "f0bca222-80d9-4af3-a85c-f76da08e3945",
   "metadata": {},
   "outputs": [],
   "source": [
    "clean_code = code.strip('```').strip()  \n",
    "print('111::')\n",
    "# Redirect stdout to capture print statements\n",
    "output_buffer = io.StringIO()\n",
    "sys.stdout = output_buffer  \n",
    "print('222')\n",
    "# Pass your DataFrame to the local scope\n",
    "local_scope = {\"df\": df}\n",
    "print('333')\n"
   ]
  },
  {
   "cell_type": "code",
   "execution_count": null,
   "id": "9e5db32d-f2ba-49a8-aef4-ae84d5697fc2",
   "metadata": {},
   "outputs": [],
   "source": [
    "import pandas as pd\n",
    "df = pd.read_csv(r\"D:\\suresh\\work\\projects\\W360_MVP1\\playground\\notebooks\\data\\Electric_Vehicle_Population_Data.csv\")"
   ]
  },
  {
   "cell_type": "code",
   "execution_count": null,
   "id": "7a751b12-b81c-4f30-a750-1758718f098d",
   "metadata": {},
   "outputs": [],
   "source": [
    "data_types = df.dtypes"
   ]
  },
  {
   "cell_type": "code",
   "execution_count": null,
   "id": "b1297019-3c62-4217-b677-d97d0de0b6c8",
   "metadata": {},
   "outputs": [],
   "source": [
    "dtypes_as_strings = df.dtypes.astype(str)"
   ]
  },
  {
   "cell_type": "code",
   "execution_count": null,
   "id": "cbc1f5da-9f8c-4de4-bd24-eaaf35ed38b5",
   "metadata": {},
   "outputs": [],
   "source": [
    "dtypes_as_strings.to_dict()"
   ]
  },
  {
   "cell_type": "code",
   "execution_count": null,
   "id": "314c9440-8178-4f1b-8071-e1ce4806da28",
   "metadata": {},
   "outputs": [],
   "source": [
    "data_types.to_dict()"
   ]
  },
  {
   "cell_type": "code",
   "execution_count": null,
   "id": "5ce80308-1589-418c-a6ab-b779abab30b9",
   "metadata": {},
   "outputs": [],
   "source": [
    "dtypes_as_strings.to_json()"
   ]
  },
  {
   "cell_type": "code",
   "execution_count": null,
   "id": "966b045b-6251-4bca-ac3e-b96cab20c9a8",
   "metadata": {},
   "outputs": [],
   "source": [
    "dtypes_as_strings.to_json(orient='index')"
   ]
  },
  {
   "cell_type": "code",
   "execution_count": null,
   "id": "0123b9df-1e21-4bbd-8ffc-ae3c219a5055",
   "metadata": {},
   "outputs": [],
   "source": [
    "data_types.to_json(orient='index')"
   ]
  },
  {
   "cell_type": "code",
   "execution_count": null,
   "id": "499e13e9-f060-4ae7-b357-4f555a6f1895",
   "metadata": {},
   "outputs": [],
   "source": [
    "data_types.values"
   ]
  },
  {
   "cell_type": "code",
   "execution_count": null,
   "id": "d34b31f0-25e4-40c7-94f3-d66b027c256a",
   "metadata": {},
   "outputs": [],
   "source": [
    "data_types"
   ]
  },
  {
   "cell_type": "code",
   "execution_count": null,
   "id": "f016dd4c-5200-4422-a8a2-e236b0c4871b",
   "metadata": {},
   "outputs": [],
   "source": []
  }
 ],
 "metadata": {
  "kernelspec": {
   "display_name": "plgrd",
   "language": "python",
   "name": "plgrd"
  },
  "language_info": {
   "codemirror_mode": {
    "name": "ipython",
    "version": 3
   },
   "file_extension": ".py",
   "mimetype": "text/x-python",
   "name": "python",
   "nbconvert_exporter": "python",
   "pygments_lexer": "ipython3",
   "version": "3.13.1"
  }
 },
 "nbformat": 4,
 "nbformat_minor": 5
}
